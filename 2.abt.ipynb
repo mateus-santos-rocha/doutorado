{
 "cells": [
  {
   "cell_type": "code",
   "execution_count": 7,
   "id": "ae7f9684",
   "metadata": {},
   "outputs": [],
   "source": [
    "import pandas as pd\n",
    "import numpy as np\n",
    "import duckdb\n",
    "from fila_estacoes_utils import P_1 as P\n",
    "\n",
    "ouro_conn = duckdb.connect('ouro_db')\n",
    "modelling_conn = duckdb.connect('modelling_db')"
   ]
  },
  {
   "cell_type": "code",
   "execution_count": 5,
   "id": "54d475f3",
   "metadata": {},
   "outputs": [
    {
     "data": {
      "text/html": [
       "<div>\n",
       "<style scoped>\n",
       "    .dataframe tbody tr th:only-of-type {\n",
       "        vertical-align: middle;\n",
       "    }\n",
       "\n",
       "    .dataframe tbody tr th {\n",
       "        vertical-align: top;\n",
       "    }\n",
       "\n",
       "    .dataframe thead th {\n",
       "        text-align: right;\n",
       "    }\n",
       "</style>\n",
       "<table border=\"1\" class=\"dataframe\">\n",
       "  <thead>\n",
       "    <tr style=\"text-align: right;\">\n",
       "      <th></th>\n",
       "      <th>name</th>\n",
       "    </tr>\n",
       "  </thead>\n",
       "  <tbody>\n",
       "    <tr>\n",
       "      <th>0</th>\n",
       "      <td>dim_estacoes</td>\n",
       "    </tr>\n",
       "    <tr>\n",
       "      <th>1</th>\n",
       "      <td>fato_estacoes_base_fila_prioridade</td>\n",
       "    </tr>\n",
       "    <tr>\n",
       "      <th>2</th>\n",
       "      <td>fato_estacoes_correlacao</td>\n",
       "    </tr>\n",
       "    <tr>\n",
       "      <th>3</th>\n",
       "      <td>fato_estacoes_distancia</td>\n",
       "    </tr>\n",
       "    <tr>\n",
       "      <th>4</th>\n",
       "      <td>fato_estacoes_intersecao</td>\n",
       "    </tr>\n",
       "    <tr>\n",
       "      <th>5</th>\n",
       "      <td>fato_estacoes_latlon_produtos_df</td>\n",
       "    </tr>\n",
       "    <tr>\n",
       "      <th>6</th>\n",
       "      <td>fato_estacoes_precipitacao</td>\n",
       "    </tr>\n",
       "  </tbody>\n",
       "</table>\n",
       "</div>"
      ],
      "text/plain": [
       "                                 name\n",
       "0                        dim_estacoes\n",
       "1  fato_estacoes_base_fila_prioridade\n",
       "2            fato_estacoes_correlacao\n",
       "3             fato_estacoes_distancia\n",
       "4            fato_estacoes_intersecao\n",
       "5    fato_estacoes_latlon_produtos_df\n",
       "6          fato_estacoes_precipitacao"
      ]
     },
     "execution_count": 5,
     "metadata": {},
     "output_type": "execute_result"
    }
   ],
   "source": [
    "ouro_conn.execute(\"show tables\").fetch_df()"
   ]
  },
  {
   "cell_type": "code",
   "execution_count": 9,
   "id": "71e49607",
   "metadata": {},
   "outputs": [],
   "source": [
    "fato_estacoes_precipitacao = ouro_conn.execute(\"SELECT * FROM fato_estacoes_precipitacao\").fetch_df()"
   ]
  }
 ],
 "metadata": {
  "kernelspec": {
   "display_name": "Python 3",
   "language": "python",
   "name": "python3"
  },
  "language_info": {
   "codemirror_mode": {
    "name": "ipython",
    "version": 3
   },
   "file_extension": ".py",
   "mimetype": "text/x-python",
   "name": "python",
   "nbconvert_exporter": "python",
   "pygments_lexer": "ipython3",
   "version": "3.11.9"
  }
 },
 "nbformat": 4,
 "nbformat_minor": 5
}
