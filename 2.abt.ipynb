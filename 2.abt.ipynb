{
 "cells": [
  {
   "cell_type": "code",
   "execution_count": 1,
   "id": "ae7f9684",
   "metadata": {},
   "outputs": [],
   "source": [
    "import pandas as pd\n",
    "import numpy as np\n",
    "import duckdb\n",
    "from fila_estacoes_utils import P_1 as P\n",
    "\n",
    "ouro_conn = duckdb.connect('ouro_db')\n",
    "modelling_conn = duckdb.connect('modelling_db')"
   ]
  },
  {
   "cell_type": "markdown",
   "id": "7b645ec6",
   "metadata": {},
   "source": [
    "# ABT Estações"
   ]
  },
  {
   "cell_type": "code",
   "execution_count": 3,
   "id": "1bfc63ce",
   "metadata": {},
   "outputs": [
    {
     "data": {
      "application/vnd.jupyter.widget-view+json": {
       "model_id": "74ac019cb8fc444ab052521b92e9e810",
       "version_major": 2,
       "version_minor": 0
      },
      "text/plain": [
       "FloatProgress(value=0.0, layout=Layout(width='auto'), style=ProgressStyle(bar_color='black'))"
      ]
     },
     "metadata": {},
     "output_type": "display_data"
    }
   ],
   "source": [
    "abt_estacoes_df = ouro_conn.execute(\n",
    "\"\"\"\n",
    "SELECT DISTINCT\n",
    "    precipitacao.id_estacao\n",
    "    ,dim_estacoes.latitude\n",
    "    ,dim_estacoes.longitude\n",
    "    ,dim_estacoes.vl_declividade\n",
    "    ,dim_estacoes.vl_altitude\n",
    "    ,dim_estacoes.vl_distancia_oceano\n",
    "    ,dim_estacoes.vl_aspecto_relevo\n",
    "    ,precipitacao.dt_medicao\n",
    "    ,precipitacao.vl_precipitacao\n",
    "    ,temperatura_maxima.vl_temperatura_maxima\n",
    "    ,temperatura_media.vl_temperatura_media\n",
    "    ,temperatura_minima.vl_temperatura_minima\n",
    "    ,umidade_maxima.vl_umidade_relativa_maxima\n",
    "    ,umidade_media.vl_umidade_relativa_media\n",
    "    ,umidade_minima.vl_umidade_relativa_minima\n",
    "    ,vento_2m_max.vl_velocidade_vento_2m_maxima\n",
    "    ,vento_2m_media.vl_velocidade_vento_2m_media\n",
    "    ,vento_10m_media.vl_velocidade_vento_10m_media\n",
    "FROM\n",
    "    fato_estacoes_precipitacao AS precipitacao\n",
    "LEFT JOIN\n",
    "    fato_estacoes_temperatura_maxima AS temperatura_maxima\n",
    "    ON temperatura_maxima.id_estacao = precipitacao.id_estacao\n",
    "    AND temperatura_maxima.dt_medicao = precipitacao.dt_medicao\n",
    "LEFT JOIN\n",
    "    fato_estacoes_temperatura_media AS temperatura_media\n",
    "    ON temperatura_media.id_estacao = precipitacao.id_estacao\n",
    "    AND temperatura_media.dt_medicao = precipitacao.dt_medicao\n",
    "LEFT JOIN\n",
    "    fato_estacoes_temperatura_minima AS temperatura_minima\n",
    "    ON temperatura_minima.id_estacao = precipitacao.id_estacao\n",
    "    AND temperatura_minima.dt_medicao = precipitacao.dt_medicao\n",
    "LEFT JOIN\n",
    "    fato_estacoes_umidade_relativa_maxima AS umidade_maxima\n",
    "    ON umidade_maxima.id_estacao = precipitacao.id_estacao\n",
    "    AND umidade_maxima.dt_medicao = precipitacao.dt_medicao\n",
    "LEFT JOIN\n",
    "    fato_estacoes_umidade_relativa_media AS umidade_media\n",
    "    ON umidade_media.id_estacao = precipitacao.id_estacao\n",
    "    AND umidade_media.dt_medicao = precipitacao.dt_medicao\n",
    "LEFT JOIN\n",
    "    fato_estacoes_umidade_relativa_minima AS umidade_minima\n",
    "    ON umidade_minima.id_estacao = precipitacao.id_estacao\n",
    "    AND umidade_minima.dt_medicao = precipitacao.dt_medicao\n",
    "LEFT JOIN\n",
    "    fato_estacoes_velocidade_vento_2m_maxima AS vento_2m_max\n",
    "    ON vento_2m_max.id_estacao = precipitacao.id_estacao\n",
    "    AND vento_2m_max.dt_medicao = precipitacao.dt_medicao\n",
    "LEFT JOIN\n",
    "    fato_estacoes_velocidade_vento_2m_media AS vento_2m_media\n",
    "    ON vento_2m_media.id_estacao = precipitacao.id_estacao\n",
    "    AND vento_2m_media.dt_medicao = precipitacao.dt_medicao\n",
    "LEFT JOIN\n",
    "    fato_estacoes_velocidade_vento_10m_media AS vento_10m_media\n",
    "    ON vento_10m_media.id_estacao = precipitacao.id_estacao\n",
    "    AND vento_10m_media.dt_medicao = precipitacao.dt_medicao\n",
    "JOIN dim_estacoes\n",
    "    ON precipitacao.id_estacao = dim_estacoes.id_estacao\n",
    "\"\"\").fetch_df()"
   ]
  },
  {
   "cell_type": "code",
   "execution_count": 4,
   "id": "9a62b3d3",
   "metadata": {},
   "outputs": [
    {
     "data": {
      "application/vnd.jupyter.widget-view+json": {
       "model_id": "9d343626be8b42378a9341df16c15763",
       "version_major": 2,
       "version_minor": 0
      },
      "text/plain": [
       "FloatProgress(value=0.0, layout=Layout(width='auto'), style=ProgressStyle(bar_color='black'))"
      ]
     },
     "metadata": {},
     "output_type": "display_data"
    },
    {
     "data": {
      "application/vnd.jupyter.widget-view+json": {
       "model_id": "c66f7af8c3034834883e5bdd4f28187d",
       "version_major": 2,
       "version_minor": 0
      },
      "text/plain": [
       "FloatProgress(value=0.0, layout=Layout(width='auto'), style=ProgressStyle(bar_color='black'))"
      ]
     },
     "metadata": {},
     "output_type": "display_data"
    },
    {
     "data": {
      "text/plain": [
       "<duckdb.duckdb.DuckDBPyConnection at 0x200bff9d5f0>"
      ]
     },
     "execution_count": 4,
     "metadata": {},
     "output_type": "execute_result"
    }
   ],
   "source": [
    "modelling_conn.execute(\"\"\"\n",
    "CREATE OR REPLACE TABLE abt_estacoes AS\n",
    "SELECT * FROM abt_estacoes_df\n",
    "\"\"\")\n",
    "\n",
    "ouro_conn.execute(\"\"\"\n",
    "CREATE OR REPLACE TABLE abt_estacoes AS\n",
    "SELECT * FROM abt_estacoes_df\n",
    "\"\"\")"
   ]
  },
  {
   "cell_type": "markdown",
   "id": "6111ed58",
   "metadata": {},
   "source": [
    "# ABT Produtos"
   ]
  },
  {
   "cell_type": "code",
   "execution_count": 2,
   "id": "71e49607",
   "metadata": {},
   "outputs": [
    {
     "data": {
      "application/vnd.jupyter.widget-view+json": {
       "model_id": "604e6e29c8cb4c059e6c47f77abee555",
       "version_major": 2,
       "version_minor": 0
      },
      "text/plain": [
       "FloatProgress(value=0.0, layout=Layout(width='auto'), style=ProgressStyle(bar_color='black'))"
      ]
     },
     "metadata": {},
     "output_type": "display_data"
    }
   ],
   "source": [
    "abt_produtos_df = ouro_conn.execute(\n",
    "\"\"\"\n",
    "SELECT DISTINCT\n",
    "   abt_estacoes.*\n",
    "    ,chirps.vl_precipitacao AS vl_precipitacao_chirps\n",
    "    ,cpc.vl_precipitacao AS vl_precipitacao_cpc\n",
    "    ,cpc.vl_temperatura_maxima AS vl_temperatura_maxima_cpc\n",
    "    ,cpc.vl_temperatura_minima AS vl_temperatura_minima_cpc\n",
    "    ,gpm_final_run.vl_precipitacao AS vl_precipitacao_gpm_final_run\n",
    "    ,gpm_late_run.vl_precipitacao AS vl_precipitacao_gpm_late_run\n",
    "    ,power.vl_precipitacao AS vl_precipitacao_power\n",
    "    ,power.vl_temperatura_maxima_2m_K AS vl_temperatura_maxima_2m_K_power\n",
    "    ,power.vl_temperatura_media_2m_K AS vl_temperatura_media_2m_K_power\n",
    "    ,power.vl_temperatura_minima_2m_K AS vl_temperatura_minima_2m_K_power\n",
    "    ,power.vl_umidade_relativa_2m AS vl_umidade_relativa_2m_power\n",
    "    ,power.vl_pressao_nivel_superficie AS vl_pressao_nivel_superficie_power\n",
    "    ,power.vl_irradiancia_allsky AS vl_irradiancia_allsky_power\n",
    "    ,power.vl_direcao_vento_10m AS vl_direcao_vento_10m_power\n",
    "    ,power.vl_direcao_vento_2m AS vl_direcao_vento_2m_power\n",
    "    ,power.vl_temperatura_orvalho_2m_K AS vl_temperatura_orvalho_2m_K_power\n",
    "    ,power.vl_vento_10m AS vl_vento_10m_power\n",
    "    ,power.vl_vento_medio_2m AS vl_vento_medio_2m_power\n",
    "    ,power.vl_vento_maximo_2m AS vl_vento_maximo_2m_power\n",
    "    ,power.vl_vento_maximo_10m AS vl_vento_maximo_10m_power\n",
    "FROM abt_estacoes\n",
    "JOIN fato_estacoes_latlon_produtos_df AS latlon\n",
    "    ON abt_estacoes.id_estacao = latlon.id_estacao\n",
    "LEFT JOIN fato_produto_chirps AS chirps\n",
    "    ON latlon.lat_chirps = chirps.lat\n",
    "    AND latlon.lon_chirps = chirps.lon\n",
    "    AND abt_estacoes.dt_medicao = chirps.dt_medicao\n",
    "LEFT JOIN fato_produto_cpc AS cpc\n",
    "    ON latlon.lat_cpc = cpc.lat\n",
    "    AND latlon.lon_cpc = cpc.lon\n",
    "    AND abt_estacoes.dt_medicao = cpc.dt_medicao\n",
    "LEFT JOIN fato_produto_gpm_final_run AS gpm_final_run\n",
    "    ON latlon.lat_gpm_final_run = gpm_final_run.lat\n",
    "    AND latlon.lon_gpm_final_run = gpm_final_run.lon\n",
    "    AND abt_estacoes.dt_medicao = gpm_final_run.dt_medicao\n",
    "LEFT JOIN fato_produto_gpm_late_run AS gpm_late_run\n",
    "    ON latlon.lat_gpm_late_run = gpm_late_run.lat\n",
    "    AND latlon.lon_gpm_late_run = gpm_late_run.lon\n",
    "    AND abt_estacoes.dt_medicao = gpm_late_run.dt_medicao\n",
    "LEFT JOIN fato_produto_power AS power\n",
    "    ON latlon.lat_power = power.lat\n",
    "    AND latlon.lon_power = power.lon\n",
    "    AND abt_estacoes.dt_medicao = power.dt_medicao\n",
    "\"\"\").fetch_df()"
   ]
  },
  {
   "cell_type": "code",
   "execution_count": 3,
   "id": "cae0cc94",
   "metadata": {},
   "outputs": [
    {
     "data": {
      "application/vnd.jupyter.widget-view+json": {
       "model_id": "8a61c3e3361f41a6ba8d3d67e24f2514",
       "version_major": 2,
       "version_minor": 0
      },
      "text/plain": [
       "FloatProgress(value=0.0, layout=Layout(width='auto'), style=ProgressStyle(bar_color='black'))"
      ]
     },
     "metadata": {},
     "output_type": "display_data"
    },
    {
     "data": {
      "application/vnd.jupyter.widget-view+json": {
       "model_id": "a7e060c0d1a34817a8428f23dc0a4fa3",
       "version_major": 2,
       "version_minor": 0
      },
      "text/plain": [
       "FloatProgress(value=0.0, layout=Layout(width='auto'), style=ProgressStyle(bar_color='black'))"
      ]
     },
     "metadata": {},
     "output_type": "display_data"
    },
    {
     "data": {
      "text/plain": [
       "<duckdb.duckdb.DuckDBPyConnection at 0x14006535bb0>"
      ]
     },
     "execution_count": 3,
     "metadata": {},
     "output_type": "execute_result"
    }
   ],
   "source": [
    "modelling_conn.execute(\"\"\"\n",
    "CREATE OR REPLACE TABLE abt_produtos AS\n",
    "SELECT * FROM abt_produtos_df\n",
    "\"\"\")\n",
    "\n",
    "ouro_conn.execute(\"\"\"\n",
    "CREATE OR REPLACE TABLE abt_produtos AS\n",
    "SELECT * FROM abt_produtos_df\n",
    "\"\"\")"
   ]
  },
  {
   "cell_type": "markdown",
   "id": "8f743a94",
   "metadata": {},
   "source": [
    "# Fila de estações de Prioridade"
   ]
  },
  {
   "cell_type": "code",
   "execution_count": 24,
   "id": "9c9a88e9",
   "metadata": {},
   "outputs": [
    {
     "data": {
      "application/vnd.jupyter.widget-view+json": {
       "model_id": "67be3d06fb2e4013967b5b25ab6eaac2",
       "version_major": 2,
       "version_minor": 0
      },
      "text/plain": [
       "FloatProgress(value=0.0, layout=Layout(width='auto'), style=ProgressStyle(bar_color='black'))"
      ]
     },
     "metadata": {},
     "output_type": "display_data"
    },
    {
     "data": {
      "text/plain": [
       "<duckdb.duckdb.DuckDBPyConnection at 0x1ef51cfbe70>"
      ]
     },
     "execution_count": 24,
     "metadata": {},
     "output_type": "execute_result"
    }
   ],
   "source": [
    "D = 30\n",
    "α = 3\n",
    "n_casas_decimais = 4\n",
    "\n",
    "from fila_estacoes_utils import P_1,apply_P_as_column\n",
    "\n",
    "fato_estacoes_base_fila_prioridade = ouro_conn.execute(\"SELECT * FROM fato_estacoes_base_fila_prioridade\").fetch_df()\n",
    "fato_estacoes_base_fila_prioridade[\"P_1\"] = apply_P_as_column(fato_estacoes_base_fila_prioridade,P_1,D,α).round(n_casas_decimais)\n",
    "fato_estacoes_base_fila_prioridade['P_1_Rank'] = fato_estacoes_base_fila_prioridade.groupby('id_estacao_base')['P_1'].rank(ascending=False,method='first').astype(int)\n",
    "\n",
    "\n",
    "fato_estacoes_base_fila_prioridade = fato_estacoes_base_fila_prioridade.sort_values(by=['id_estacao_base','P_1_Rank']) \\\n",
    "    .reset_index(drop=True)\n",
    "\n",
    "modelling_conn.execute(\"\"\"\n",
    "CREATE OR REPLACE TABLE fato_estacoes_fila_P_1 AS\n",
    "SELECT * FROM fato_estacoes_base_fila_prioridade\n",
    "\"\"\")"
   ]
  },
  {
   "cell_type": "code",
   "execution_count": 27,
   "id": "638e4b0b",
   "metadata": {},
   "outputs": [
    {
     "data": {
      "text/html": [
       "<div>\n",
       "<style scoped>\n",
       "    .dataframe tbody tr th:only-of-type {\n",
       "        vertical-align: middle;\n",
       "    }\n",
       "\n",
       "    .dataframe tbody tr th {\n",
       "        vertical-align: top;\n",
       "    }\n",
       "\n",
       "    .dataframe thead th {\n",
       "        text-align: right;\n",
       "    }\n",
       "</style>\n",
       "<table border=\"1\" class=\"dataframe\">\n",
       "  <thead>\n",
       "    <tr style=\"text-align: right;\">\n",
       "      <th></th>\n",
       "      <th>id_estacao_base</th>\n",
       "      <th>id_estacao_candidata</th>\n",
       "      <th>correlacao</th>\n",
       "      <th>pct_intersecao_precipitacao</th>\n",
       "      <th>vl_distancia_km</th>\n",
       "      <th>P_1</th>\n",
       "      <th>P_1_Rank</th>\n",
       "    </tr>\n",
       "  </thead>\n",
       "  <tbody>\n",
       "    <tr>\n",
       "      <th>0</th>\n",
       "      <td>1</td>\n",
       "      <td>31029</td>\n",
       "      <td>0.563254</td>\n",
       "      <td>100.000000</td>\n",
       "      <td>3.00</td>\n",
       "      <td>0.5627</td>\n",
       "      <td>1</td>\n",
       "    </tr>\n",
       "    <tr>\n",
       "      <th>1</th>\n",
       "      <td>1</td>\n",
       "      <td>91</td>\n",
       "      <td>0.593248</td>\n",
       "      <td>100.000000</td>\n",
       "      <td>16.88</td>\n",
       "      <td>0.5035</td>\n",
       "      <td>2</td>\n",
       "    </tr>\n",
       "    <tr>\n",
       "      <th>2</th>\n",
       "      <td>1</td>\n",
       "      <td>927763</td>\n",
       "      <td>0.449028</td>\n",
       "      <td>95.255042</td>\n",
       "      <td>8.38</td>\n",
       "      <td>0.4186</td>\n",
       "      <td>3</td>\n",
       "    </tr>\n",
       "    <tr>\n",
       "      <th>3</th>\n",
       "      <td>1</td>\n",
       "      <td>927781</td>\n",
       "      <td>0.490810</td>\n",
       "      <td>100.000000</td>\n",
       "      <td>17.93</td>\n",
       "      <td>0.4045</td>\n",
       "      <td>4</td>\n",
       "    </tr>\n",
       "    <tr>\n",
       "      <th>4</th>\n",
       "      <td>1</td>\n",
       "      <td>927782</td>\n",
       "      <td>0.505842</td>\n",
       "      <td>100.000000</td>\n",
       "      <td>19.15</td>\n",
       "      <td>0.4014</td>\n",
       "      <td>5</td>\n",
       "    </tr>\n",
       "    <tr>\n",
       "      <th>...</th>\n",
       "      <td>...</td>\n",
       "      <td>...</td>\n",
       "      <td>...</td>\n",
       "      <td>...</td>\n",
       "      <td>...</td>\n",
       "      <td>...</td>\n",
       "      <td>...</td>\n",
       "    </tr>\n",
       "    <tr>\n",
       "      <th>19842565</th>\n",
       "      <td>1733225</td>\n",
       "      <td>926769</td>\n",
       "      <td>0.000000</td>\n",
       "      <td>0.000000</td>\n",
       "      <td>248.78</td>\n",
       "      <td>0.0000</td>\n",
       "      <td>4450</td>\n",
       "    </tr>\n",
       "    <tr>\n",
       "      <th>19842566</th>\n",
       "      <td>1733225</td>\n",
       "      <td>926162</td>\n",
       "      <td>0.000000</td>\n",
       "      <td>0.000000</td>\n",
       "      <td>547.39</td>\n",
       "      <td>0.0000</td>\n",
       "      <td>4451</td>\n",
       "    </tr>\n",
       "    <tr>\n",
       "      <th>19842567</th>\n",
       "      <td>1733225</td>\n",
       "      <td>926372</td>\n",
       "      <td>0.000000</td>\n",
       "      <td>0.000000</td>\n",
       "      <td>777.08</td>\n",
       "      <td>0.0000</td>\n",
       "      <td>4452</td>\n",
       "    </tr>\n",
       "    <tr>\n",
       "      <th>19842568</th>\n",
       "      <td>1733225</td>\n",
       "      <td>927897</td>\n",
       "      <td>0.000000</td>\n",
       "      <td>0.000000</td>\n",
       "      <td>492.20</td>\n",
       "      <td>0.0000</td>\n",
       "      <td>4453</td>\n",
       "    </tr>\n",
       "    <tr>\n",
       "      <th>19842569</th>\n",
       "      <td>1733225</td>\n",
       "      <td>30905</td>\n",
       "      <td>0.183832</td>\n",
       "      <td>62.500000</td>\n",
       "      <td>484.32</td>\n",
       "      <td>0.0000</td>\n",
       "      <td>4454</td>\n",
       "    </tr>\n",
       "  </tbody>\n",
       "</table>\n",
       "<p>19842570 rows × 7 columns</p>\n",
       "</div>"
      ],
      "text/plain": [
       "          id_estacao_base  id_estacao_candidata  correlacao  \\\n",
       "0                       1                 31029    0.563254   \n",
       "1                       1                    91    0.593248   \n",
       "2                       1                927763    0.449028   \n",
       "3                       1                927781    0.490810   \n",
       "4                       1                927782    0.505842   \n",
       "...                   ...                   ...         ...   \n",
       "19842565          1733225                926769    0.000000   \n",
       "19842566          1733225                926162    0.000000   \n",
       "19842567          1733225                926372    0.000000   \n",
       "19842568          1733225                927897    0.000000   \n",
       "19842569          1733225                 30905    0.183832   \n",
       "\n",
       "          pct_intersecao_precipitacao  vl_distancia_km     P_1  P_1_Rank  \n",
       "0                          100.000000             3.00  0.5627         1  \n",
       "1                          100.000000            16.88  0.5035         2  \n",
       "2                           95.255042             8.38  0.4186         3  \n",
       "3                          100.000000            17.93  0.4045         4  \n",
       "4                          100.000000            19.15  0.4014         5  \n",
       "...                               ...              ...     ...       ...  \n",
       "19842565                     0.000000           248.78  0.0000      4450  \n",
       "19842566                     0.000000           547.39  0.0000      4451  \n",
       "19842567                     0.000000           777.08  0.0000      4452  \n",
       "19842568                     0.000000           492.20  0.0000      4453  \n",
       "19842569                    62.500000           484.32  0.0000      4454  \n",
       "\n",
       "[19842570 rows x 7 columns]"
      ]
     },
     "execution_count": 27,
     "metadata": {},
     "output_type": "execute_result"
    }
   ],
   "source": [
    "fato_estacoes_base_fila_prioridade"
   ]
  },
  {
   "cell_type": "markdown",
   "id": "3d084087",
   "metadata": {},
   "source": [
    "# ABT Estações Vizinhas"
   ]
  },
  {
   "cell_type": "code",
   "execution_count": null,
   "id": "eae718e8",
   "metadata": {},
   "outputs": [
    {
     "data": {
      "application/vnd.jupyter.widget-view+json": {
       "model_id": "35cbcb5046e14be58b98076a3ebb67e1",
       "version_major": 2,
       "version_minor": 0
      },
      "text/plain": [
       "FloatProgress(value=0.0, layout=Layout(width='auto'), style=ProgressStyle(bar_color='black'))"
      ]
     },
     "metadata": {},
     "output_type": "display_data"
    }
   ],
   "source": [
    "test_df = modelling_conn.execute(\n",
    "\"\"\"\n",
    "SELECT\n",
    "    abt_produtos.*\n",
    "    ,vizinha_1.correlacao AS vl_correlacao_estacao_vizinha\n",
    "    ,vizinha_1.pct_intersecao_precipitacao AS pct_intersecao_precipitacao_vizinha\n",
    "    ,vizinha_1.vl_distancia_km AS vl_distancia_km_vizinha\n",
    "    ,vizinha_1.P_1 AS vl_prioridade_vizinha\n",
    "    ,COALESCE(COALESCE(COALESCE(COALESCE(abt_vizinha_1.vl_precipitacao,abt_vizinha_2.vl_precipitacao),abt_vizinha_3.vl_precipitacao),abt_vizinha_4.vl_precipitacao),abt_vizinha_5.vl_precipitacao) AS vl_precipitacao_vizinha\n",
    "FROM abt_produtos\n",
    "JOIN fato_estacoes_fila_P_1 AS vizinha_1\n",
    "    ON abt_produtos.id_estacao = vizinha_1.id_estacao_base\n",
    "    AND vizinha_1.P_1_Rank = 1\n",
    "LEFT JOIN abt_produtos AS abt_vizinha_1\n",
    "    ON vizinha_1.id_estacao_candidata = abt_vizinha_1.id_estacao\n",
    "    AND abt_produtos.dt_medicao = abt_vizinha_1.dt_medicao\n",
    "JOIN fato_estacoes_fila_P_1 AS vizinha_2\n",
    "    ON abt_produtos.id_estacao = vizinha_2.id_estacao_base\n",
    "    AND vizinha_2.P_1_Rank = 2\n",
    "LEFT JOIN abt_produtos AS abt_vizinha_2\n",
    "    ON vizinha_2.id_estacao_candidata = abt_vizinha_2.id_estacao\n",
    "    AND abt_produtos.dt_medicao = abt_vizinha_2.dt_medicao\n",
    "JOIN fato_estacoes_fila_P_1 AS vizinha_3\n",
    "    ON abt_produtos.id_estacao = vizinha_3.id_estacao_base\n",
    "    AND vizinha_3.P_1_Rank = 3\n",
    "LEFT JOIN abt_produtos AS abt_vizinha_3\n",
    "    ON vizinha_3.id_estacao_candidata = abt_vizinha_3.id_estacao\n",
    "    AND abt_produtos.dt_medicao = abt_vizinha_3.dt_medicao\n",
    "JOIN fato_estacoes_fila_P_1 AS vizinha_4\n",
    "    ON abt_produtos.id_estacao = vizinha_4.id_estacao_base\n",
    "    AND vizinha_4.P_1_Rank = 4\n",
    "LEFT JOIN abt_produtos AS abt_vizinha_4\n",
    "    ON vizinha_4.id_estacao_candidata = abt_vizinha_4.id_estacao\n",
    "    AND abt_produtos.dt_medicao = abt_vizinha_4.dt_medicao\n",
    "JOIN fato_estacoes_fila_P_1 AS vizinha_5\n",
    "    ON abt_produtos.id_estacao = vizinha_5.id_estacao_base\n",
    "    AND vizinha_5.P_1_Rank = 5\n",
    "LEFT JOIN abt_produtos AS abt_vizinha_5\n",
    "    ON vizinha_5.id_estacao_candidata = abt_vizinha_5.id_estacao\n",
    "    AND abt_produtos.dt_medicao = abt_vizinha_5.dt_medicao\n",
    "\"\"\").fetch_df()"
   ]
  },
  {
   "cell_type": "code",
   "execution_count": 13,
   "id": "cd828092",
   "metadata": {},
   "outputs": [
    {
     "data": {
      "text/plain": [
       "0.009031618965377566"
      ]
     },
     "execution_count": 13,
     "metadata": {},
     "output_type": "execute_result"
    }
   ],
   "source": [
    "len(test_df.loc[test_df['vl_precipitacao_vizinha'].isna()])/len(test_df)\n",
    "# 1: 0.098\n",
    "# 1,2: 0.031\n",
    "# 1,2,3: 0.014\n",
    "# 1,2,3,4: 0.009\n",
    "# 1,2,3,4,5:"
   ]
  }
 ],
 "metadata": {
  "kernelspec": {
   "display_name": "Python 3",
   "language": "python",
   "name": "python3"
  },
  "language_info": {
   "codemirror_mode": {
    "name": "ipython",
    "version": 3
   },
   "file_extension": ".py",
   "mimetype": "text/x-python",
   "name": "python",
   "nbconvert_exporter": "python",
   "pygments_lexer": "ipython3",
   "version": "3.11.9"
  }
 },
 "nbformat": 4,
 "nbformat_minor": 5
}
