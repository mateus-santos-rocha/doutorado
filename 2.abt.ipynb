{
 "cells": [
  {
   "cell_type": "code",
   "execution_count": 1,
   "id": "ae7f9684",
   "metadata": {},
   "outputs": [],
   "source": [
    "import pandas as pd\n",
    "import numpy as np\n",
    "import duckdb\n",
    "from fila_estacoes_utils import P_1 as P\n",
    "\n",
    "ouro_conn = duckdb.connect('ouro_db')\n",
    "modelling_conn = duckdb.connect('modelling_db')"
   ]
  },
  {
   "cell_type": "markdown",
   "id": "7b645ec6",
   "metadata": {},
   "source": [
    "# ABT Estações"
   ]
  },
  {
   "cell_type": "code",
   "execution_count": 3,
   "id": "1bfc63ce",
   "metadata": {},
   "outputs": [
    {
     "data": {
      "application/vnd.jupyter.widget-view+json": {
       "model_id": "74ac019cb8fc444ab052521b92e9e810",
       "version_major": 2,
       "version_minor": 0
      },
      "text/plain": [
       "FloatProgress(value=0.0, layout=Layout(width='auto'), style=ProgressStyle(bar_color='black'))"
      ]
     },
     "metadata": {},
     "output_type": "display_data"
    }
   ],
   "source": [
    "abt_estacoes_df = ouro_conn.execute(\n",
    "\"\"\"\n",
    "SELECT DISTINCT\n",
    "    precipitacao.id_estacao\n",
    "    ,dim_estacoes.latitude\n",
    "    ,dim_estacoes.longitude\n",
    "    ,dim_estacoes.vl_declividade\n",
    "    ,dim_estacoes.vl_altitude\n",
    "    ,dim_estacoes.vl_distancia_oceano\n",
    "    ,dim_estacoes.vl_aspecto_relevo\n",
    "    ,precipitacao.dt_medicao\n",
    "    ,precipitacao.vl_precipitacao\n",
    "    ,temperatura_maxima.vl_temperatura_maxima\n",
    "    ,temperatura_media.vl_temperatura_media\n",
    "    ,temperatura_minima.vl_temperatura_minima\n",
    "    ,umidade_maxima.vl_umidade_relativa_maxima\n",
    "    ,umidade_media.vl_umidade_relativa_media\n",
    "    ,umidade_minima.vl_umidade_relativa_minima\n",
    "    ,vento_2m_max.vl_velocidade_vento_2m_maxima\n",
    "    ,vento_2m_media.vl_velocidade_vento_2m_media\n",
    "    ,vento_10m_media.vl_velocidade_vento_10m_media\n",
    "FROM\n",
    "    fato_estacoes_precipitacao AS precipitacao\n",
    "LEFT JOIN\n",
    "    fato_estacoes_temperatura_maxima AS temperatura_maxima\n",
    "    ON temperatura_maxima.id_estacao = precipitacao.id_estacao\n",
    "    AND temperatura_maxima.dt_medicao = precipitacao.dt_medicao\n",
    "LEFT JOIN\n",
    "    fato_estacoes_temperatura_media AS temperatura_media\n",
    "    ON temperatura_media.id_estacao = precipitacao.id_estacao\n",
    "    AND temperatura_media.dt_medicao = precipitacao.dt_medicao\n",
    "LEFT JOIN\n",
    "    fato_estacoes_temperatura_minima AS temperatura_minima\n",
    "    ON temperatura_minima.id_estacao = precipitacao.id_estacao\n",
    "    AND temperatura_minima.dt_medicao = precipitacao.dt_medicao\n",
    "LEFT JOIN\n",
    "    fato_estacoes_umidade_relativa_maxima AS umidade_maxima\n",
    "    ON umidade_maxima.id_estacao = precipitacao.id_estacao\n",
    "    AND umidade_maxima.dt_medicao = precipitacao.dt_medicao\n",
    "LEFT JOIN\n",
    "    fato_estacoes_umidade_relativa_media AS umidade_media\n",
    "    ON umidade_media.id_estacao = precipitacao.id_estacao\n",
    "    AND umidade_media.dt_medicao = precipitacao.dt_medicao\n",
    "LEFT JOIN\n",
    "    fato_estacoes_umidade_relativa_minima AS umidade_minima\n",
    "    ON umidade_minima.id_estacao = precipitacao.id_estacao\n",
    "    AND umidade_minima.dt_medicao = precipitacao.dt_medicao\n",
    "LEFT JOIN\n",
    "    fato_estacoes_velocidade_vento_2m_maxima AS vento_2m_max\n",
    "    ON vento_2m_max.id_estacao = precipitacao.id_estacao\n",
    "    AND vento_2m_max.dt_medicao = precipitacao.dt_medicao\n",
    "LEFT JOIN\n",
    "    fato_estacoes_velocidade_vento_2m_media AS vento_2m_media\n",
    "    ON vento_2m_media.id_estacao = precipitacao.id_estacao\n",
    "    AND vento_2m_media.dt_medicao = precipitacao.dt_medicao\n",
    "LEFT JOIN\n",
    "    fato_estacoes_velocidade_vento_10m_media AS vento_10m_media\n",
    "    ON vento_10m_media.id_estacao = precipitacao.id_estacao\n",
    "    AND vento_10m_media.dt_medicao = precipitacao.dt_medicao\n",
    "JOIN dim_estacoes\n",
    "    ON precipitacao.id_estacao = dim_estacoes.id_estacao\n",
    "\"\"\").fetch_df()"
   ]
  },
  {
   "cell_type": "code",
   "execution_count": 4,
   "id": "9a62b3d3",
   "metadata": {},
   "outputs": [
    {
     "data": {
      "application/vnd.jupyter.widget-view+json": {
       "model_id": "9d343626be8b42378a9341df16c15763",
       "version_major": 2,
       "version_minor": 0
      },
      "text/plain": [
       "FloatProgress(value=0.0, layout=Layout(width='auto'), style=ProgressStyle(bar_color='black'))"
      ]
     },
     "metadata": {},
     "output_type": "display_data"
    },
    {
     "data": {
      "application/vnd.jupyter.widget-view+json": {
       "model_id": "c66f7af8c3034834883e5bdd4f28187d",
       "version_major": 2,
       "version_minor": 0
      },
      "text/plain": [
       "FloatProgress(value=0.0, layout=Layout(width='auto'), style=ProgressStyle(bar_color='black'))"
      ]
     },
     "metadata": {},
     "output_type": "display_data"
    },
    {
     "data": {
      "text/plain": [
       "<duckdb.duckdb.DuckDBPyConnection at 0x200bff9d5f0>"
      ]
     },
     "execution_count": 4,
     "metadata": {},
     "output_type": "execute_result"
    }
   ],
   "source": [
    "modelling_conn.execute(\"\"\"\n",
    "CREATE OR REPLACE TABLE abt_estacoes AS\n",
    "SELECT * FROM abt_estacoes_df\n",
    "\"\"\")\n",
    "\n",
    "ouro_conn.execute(\"\"\"\n",
    "CREATE OR REPLACE TABLE abt_estacoes AS\n",
    "SELECT * FROM abt_estacoes_df\n",
    "\"\"\")"
   ]
  },
  {
   "cell_type": "markdown",
   "id": "6111ed58",
   "metadata": {},
   "source": [
    "# ABT Produtos"
   ]
  },
  {
   "cell_type": "code",
   "execution_count": 2,
   "id": "71e49607",
   "metadata": {},
   "outputs": [
    {
     "data": {
      "application/vnd.jupyter.widget-view+json": {
       "model_id": "604e6e29c8cb4c059e6c47f77abee555",
       "version_major": 2,
       "version_minor": 0
      },
      "text/plain": [
       "FloatProgress(value=0.0, layout=Layout(width='auto'), style=ProgressStyle(bar_color='black'))"
      ]
     },
     "metadata": {},
     "output_type": "display_data"
    }
   ],
   "source": [
    "abt_produtos_df = ouro_conn.execute(\n",
    "\"\"\"\n",
    "SELECT DISTINCT\n",
    "   abt_estacoes.*\n",
    "    ,chirps.vl_precipitacao AS vl_precipitacao_chirps\n",
    "    ,cpc.vl_precipitacao AS vl_precipitacao_cpc\n",
    "    ,cpc.vl_temperatura_maxima AS vl_temperatura_maxima_cpc\n",
    "    ,cpc.vl_temperatura_minima AS vl_temperatura_minima_cpc\n",
    "    ,gpm_final_run.vl_precipitacao AS vl_precipitacao_gpm_final_run\n",
    "    ,gpm_late_run.vl_precipitacao AS vl_precipitacao_gpm_late_run\n",
    "    ,power.vl_precipitacao AS vl_precipitacao_power\n",
    "    ,power.vl_temperatura_maxima_2m_K AS vl_temperatura_maxima_2m_K_power\n",
    "    ,power.vl_temperatura_media_2m_K AS vl_temperatura_media_2m_K_power\n",
    "    ,power.vl_temperatura_minima_2m_K AS vl_temperatura_minima_2m_K_power\n",
    "    ,power.vl_umidade_relativa_2m AS vl_umidade_relativa_2m_power\n",
    "    ,power.vl_pressao_nivel_superficie AS vl_pressao_nivel_superficie_power\n",
    "    ,power.vl_irradiancia_allsky AS vl_irradiancia_allsky_power\n",
    "    ,power.vl_direcao_vento_10m AS vl_direcao_vento_10m_power\n",
    "    ,power.vl_direcao_vento_2m AS vl_direcao_vento_2m_power\n",
    "    ,power.vl_temperatura_orvalho_2m_K AS vl_temperatura_orvalho_2m_K_power\n",
    "    ,power.vl_vento_10m AS vl_vento_10m_power\n",
    "    ,power.vl_vento_medio_2m AS vl_vento_medio_2m_power\n",
    "    ,power.vl_vento_maximo_2m AS vl_vento_maximo_2m_power\n",
    "    ,power.vl_vento_maximo_10m AS vl_vento_maximo_10m_power\n",
    "FROM abt_estacoes\n",
    "JOIN fato_estacoes_latlon_produtos_df AS latlon\n",
    "    ON abt_estacoes.id_estacao = latlon.id_estacao\n",
    "LEFT JOIN fato_produto_chirps AS chirps\n",
    "    ON latlon.lat_chirps = chirps.lat\n",
    "    AND latlon.lon_chirps = chirps.lon\n",
    "    AND abt_estacoes.dt_medicao = chirps.dt_medicao\n",
    "LEFT JOIN fato_produto_cpc AS cpc\n",
    "    ON latlon.lat_cpc = cpc.lat\n",
    "    AND latlon.lon_cpc = cpc.lon\n",
    "    AND abt_estacoes.dt_medicao = cpc.dt_medicao\n",
    "LEFT JOIN fato_produto_gpm_final_run AS gpm_final_run\n",
    "    ON latlon.lat_gpm_final_run = gpm_final_run.lat\n",
    "    AND latlon.lon_gpm_final_run = gpm_final_run.lon\n",
    "    AND abt_estacoes.dt_medicao = gpm_final_run.dt_medicao\n",
    "LEFT JOIN fato_produto_gpm_late_run AS gpm_late_run\n",
    "    ON latlon.lat_gpm_late_run = gpm_late_run.lat\n",
    "    AND latlon.lon_gpm_late_run = gpm_late_run.lon\n",
    "    AND abt_estacoes.dt_medicao = gpm_late_run.dt_medicao\n",
    "LEFT JOIN fato_produto_power AS power\n",
    "    ON latlon.lat_power = power.lat\n",
    "    AND latlon.lon_power = power.lon\n",
    "    AND abt_estacoes.dt_medicao = power.dt_medicao\n",
    "\"\"\").fetch_df()"
   ]
  },
  {
   "cell_type": "code",
   "execution_count": 3,
   "id": "cae0cc94",
   "metadata": {},
   "outputs": [
    {
     "data": {
      "application/vnd.jupyter.widget-view+json": {
       "model_id": "8a61c3e3361f41a6ba8d3d67e24f2514",
       "version_major": 2,
       "version_minor": 0
      },
      "text/plain": [
       "FloatProgress(value=0.0, layout=Layout(width='auto'), style=ProgressStyle(bar_color='black'))"
      ]
     },
     "metadata": {},
     "output_type": "display_data"
    },
    {
     "data": {
      "application/vnd.jupyter.widget-view+json": {
       "model_id": "a7e060c0d1a34817a8428f23dc0a4fa3",
       "version_major": 2,
       "version_minor": 0
      },
      "text/plain": [
       "FloatProgress(value=0.0, layout=Layout(width='auto'), style=ProgressStyle(bar_color='black'))"
      ]
     },
     "metadata": {},
     "output_type": "display_data"
    },
    {
     "data": {
      "text/plain": [
       "<duckdb.duckdb.DuckDBPyConnection at 0x14006535bb0>"
      ]
     },
     "execution_count": 3,
     "metadata": {},
     "output_type": "execute_result"
    }
   ],
   "source": [
    "modelling_conn.execute(\"\"\"\n",
    "CREATE OR REPLACE TABLE abt_produtos AS\n",
    "SELECT * FROM abt_produtos_df\n",
    "\"\"\")\n",
    "\n",
    "ouro_conn.execute(\"\"\"\n",
    "CREATE OR REPLACE TABLE abt_produtos AS\n",
    "SELECT * FROM abt_produtos_df\n",
    "\"\"\")"
   ]
  }
 ],
 "metadata": {
  "kernelspec": {
   "display_name": "Python 3",
   "language": "python",
   "name": "python3"
  },
  "language_info": {
   "codemirror_mode": {
    "name": "ipython",
    "version": 3
   },
   "file_extension": ".py",
   "mimetype": "text/x-python",
   "name": "python",
   "nbconvert_exporter": "python",
   "pygments_lexer": "ipython3",
   "version": "3.11.9"
  }
 },
 "nbformat": 4,
 "nbformat_minor": 5
}
