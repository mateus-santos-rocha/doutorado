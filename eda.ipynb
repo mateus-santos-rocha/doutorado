{
 "cells": [
  {
   "cell_type": "code",
   "execution_count": 1,
   "id": "68776b49",
   "metadata": {},
   "outputs": [],
   "source": [
    "import numpy as np\n",
    "import pandas as pd\n",
    "import seaborn as sns\n",
    "import matplotlib.pyplot as plt\n",
    "import duckdb"
   ]
  },
  {
   "cell_type": "code",
   "execution_count": 3,
   "id": "5dbdf4f0",
   "metadata": {},
   "outputs": [],
   "source": [
    "bronze_conn = duckdb.connect(\"bronze_db\")\n",
    "prata_conn = duckdb.connect(\"prata_db\")"
   ]
  },
  {
   "cell_type": "markdown",
   "id": "d08e5da3",
   "metadata": {},
   "source": [
    "# Descrição das Estações"
   ]
  },
  {
   "cell_type": "code",
   "execution_count": null,
   "id": "a870d78b",
   "metadata": {},
   "outputs": [
    {
     "name": "stdout",
     "output_type": "stream",
     "text": [
      "NUMERO DE ESTAÇÕES POR INSTITUIÇÃO\n",
      "nm_instituicao\n",
      "Agência Nacional de Águas                                             13072\n",
      "Centro Nacional de Monitoramento e Alertas de Desastres Naturais       1625\n",
      "Centro de Desenvolvimento do Vale do\\n            Paranapanema           25\n",
      "Companhia Energética de Minas\\n            Gerais                      1384\n",
      "Cooperativa Regional de Cafeicultores\\n            em Guaxupé Ltda      108\n",
      "Fazenda Paineiras (Instituição\\n            Particular Goiás)            65\n",
      "Instituto Agronômico de Campinas                                        465\n",
      "Instituto Nacional de Meteorologia                                     9163\n",
      "Instituto Tecnológico SIMEPAR                                            30\n",
      "Sistema Alerta Rio                                                      330\n",
      "Name: id_estacao, dtype: int64\n"
     ]
    }
   ],
   "source": [
    "dim_estacoes = bronze_conn.execute(\"SELECT * FROM dim_estacoes\").fetch_df()\n",
    "print(\"NUMERO DE ESTAÇÕES POR INSTITUIÇÃO\")\n",
    "print(dim_estacoes.groupby('nm_instituicao')['id_estacao'].count())"
   ]
  }
 ],
 "metadata": {
  "kernelspec": {
   "display_name": "Python 3",
   "language": "python",
   "name": "python3"
  },
  "language_info": {
   "codemirror_mode": {
    "name": "ipython",
    "version": 3
   },
   "file_extension": ".py",
   "mimetype": "text/x-python",
   "name": "python",
   "nbconvert_exporter": "python",
   "pygments_lexer": "ipython3",
   "version": "3.11.9"
  }
 },
 "nbformat": 4,
 "nbformat_minor": 5
}
