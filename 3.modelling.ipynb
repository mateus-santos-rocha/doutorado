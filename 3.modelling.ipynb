{
 "cells": [
  {
   "cell_type": "code",
   "execution_count": 66,
   "id": "ae7f9684",
   "metadata": {},
   "outputs": [],
   "source": [
    "import pandas as pd\n",
    "import numpy as np\n",
    "import duckdb\n",
    "from sklearn.ensemble import RandomForestRegressor\n",
    "from xgboost import XGBRegressor\n",
    "from sklearn.metrics import mean_squared_error, mean_absolute_error, r2_score\n",
    "import matplotlib.pyplot as plt\n",
    "\n",
    "modelling_conn = duckdb.connect('modelling_db')\n",
    "\n",
    "import warnings\n",
    "warnings.filterwarnings(\"ignore\", category=DeprecationWarning)"
   ]
  },
  {
   "cell_type": "code",
   "execution_count": 67,
   "id": "a5fa2e6b",
   "metadata": {},
   "outputs": [],
   "source": [
    "def treinar_modelos_precipitacao(\n",
    "    abt_estacoes_vizinhas,\n",
    "    threshold_prioridade,\n",
    "    percent_datetime_partitioning_split,\n",
    "    featurelist_com_vizinha,\n",
    "    featurelist_sem_vizinha\n",
    "):\n",
    "    # Separar com e sem vizinha\n",
    "    abt_com_vizinha = abt_estacoes_vizinhas.loc[\n",
    "        abt_estacoes_vizinhas['vl_prioridade_vizinha'] >= threshold_prioridade\n",
    "    ].sort_values(by=['id_estacao','dt_medicao'])\n",
    "\n",
    "    abt_sem_vizinha = abt_estacoes_vizinhas.loc[\n",
    "        abt_estacoes_vizinhas['vl_prioridade_vizinha'].fillna(0) < threshold_prioridade\n",
    "    ].sort_values(by=['id_estacao','dt_medicao'])\n",
    "\n",
    "    # Split por estação\n",
    "    treinamento_com_vizinha = abt_com_vizinha.groupby('id_estacao', as_index=False).apply(\n",
    "        lambda g: g.iloc[:max(1, int(len(g) * percent_datetime_partitioning_split))]\n",
    "    ).reset_index(drop=True)\n",
    "\n",
    "    validacao_com_vizinha = abt_com_vizinha.groupby('id_estacao', as_index=False).apply(\n",
    "        lambda g: g.iloc[max(1, int(len(g) * percent_datetime_partitioning_split)):]\n",
    "    ).reset_index(drop=True)\n",
    "\n",
    "    treinamento_sem_vizinha = abt_sem_vizinha.groupby('id_estacao', as_index=False).apply(\n",
    "        lambda g: g.iloc[:max(1, int(len(g) * percent_datetime_partitioning_split))]\n",
    "    ).reset_index(drop=True)\n",
    "\n",
    "    validacao_sem_vizinha = abt_sem_vizinha.groupby('id_estacao', as_index=False).apply(\n",
    "        lambda g: g.iloc[max(1, int(len(g) * percent_datetime_partitioning_split)):]\n",
    "    ).reset_index(drop=True)\n",
    "\n",
    "    # Features e target\n",
    "    X_com_vizinha_treino = treinamento_com_vizinha[featurelist_com_vizinha]\n",
    "    y_com_vizinha_treino = treinamento_com_vizinha['vl_precipitacao']\n",
    "    X_sem_vizinha_treino = treinamento_sem_vizinha[featurelist_sem_vizinha]\n",
    "    y_sem_vizinha_treino = treinamento_sem_vizinha['vl_precipitacao']\n",
    "\n",
    "    params = {\n",
    "        \"tree_method\": \"gpu_hist\",     # ativa GPU\n",
    "        \"predictor\": \"gpu_predictor\"  # também força a predição na GPU\n",
    "    }\n",
    "\n",
    "    # Treinar modelos\n",
    "    xgboost_com_vizinha = XGBRegressor(**params)\n",
    "    xgboost_sem_vizinha = XGBRegressor(**params)\n",
    "\n",
    "    xgboost_com_vizinha.fit(X_com_vizinha_treino, y_com_vizinha_treino)\n",
    "    xgboost_sem_vizinha.fit(X_sem_vizinha_treino, y_sem_vizinha_treino)\n",
    "\n",
    "    # Validação\n",
    "    X_com_vizinha_valid = validacao_com_vizinha[featurelist_com_vizinha]\n",
    "    y_com_vizinha_valid = validacao_com_vizinha['vl_precipitacao']\n",
    "    X_sem_vizinha_valid = validacao_sem_vizinha[featurelist_sem_vizinha]\n",
    "    y_sem_vizinha_valid = validacao_sem_vizinha['vl_precipitacao']\n",
    "\n",
    "    y_com_vizinha_pred = xgboost_com_vizinha.predict(X_com_vizinha_valid)\n",
    "    y_sem_vizinha_pred = xgboost_sem_vizinha.predict(X_sem_vizinha_valid)\n",
    "\n",
    "    # Métricas\n",
    "    metrics = {\n",
    "        \"com_vizinha\": {\n",
    "            \"model\": xgboost_com_vizinha,\n",
    "            \"mse\": mean_squared_error(y_com_vizinha_valid, y_com_vizinha_pred),\n",
    "            \"rmse\": np.sqrt(mean_squared_error(y_com_vizinha_valid, y_com_vizinha_pred)),\n",
    "            \"mae\": mean_absolute_error(y_com_vizinha_valid, y_com_vizinha_pred),\n",
    "            \"r2\": r2_score(y_com_vizinha_valid, y_com_vizinha_pred)\n",
    "        },\n",
    "        \"sem_vizinha\": {\n",
    "            \"model\": xgboost_sem_vizinha,\n",
    "            \"mse\": mean_squared_error(y_sem_vizinha_valid, y_sem_vizinha_pred),\n",
    "            \"rmse\": np.sqrt(mean_squared_error(y_sem_vizinha_valid, y_sem_vizinha_pred)),\n",
    "            \"mae\": mean_absolute_error(y_sem_vizinha_valid, y_sem_vizinha_pred),\n",
    "            \"r2\": r2_score(y_sem_vizinha_valid, y_sem_vizinha_pred)\n",
    "        }\n",
    "    }\n",
    "\n",
    "    return metrics"
   ]
  },
  {
   "cell_type": "code",
   "execution_count": 59,
   "id": "96c19281",
   "metadata": {},
   "outputs": [
    {
     "data": {
      "application/vnd.jupyter.widget-view+json": {
       "model_id": "4bf82dfe56fe4caba824800010b0044a",
       "version_major": 2,
       "version_minor": 0
      },
      "text/plain": [
       "FloatProgress(value=0.0, layout=Layout(width='auto'), style=ProgressStyle(bar_color='black'))"
      ]
     },
     "metadata": {},
     "output_type": "display_data"
    }
   ],
   "source": [
    "threshold_prioridade = 0.5\n",
    "percent_datetime_partitioning_split = 0.7\n",
    "\n",
    "featurelist_com_vizinha = ['latitude','longitude','dt_medicao_mes', 'dt_medicao_ano',\n",
    "                           'vl_declividade', 'vl_altitude', 'vl_distancia_oceano', 'vl_aspecto_relevo',\n",
    "                           'vl_temperatura_maxima', 'vl_temperatura_media','vl_temperatura_minima', 'vl_umidade_relativa_maxima','vl_umidade_relativa_media', 'vl_umidade_relativa_minima','vl_velocidade_vento_2m_maxima', 'vl_velocidade_vento_2m_media','vl_velocidade_vento_10m_media', \n",
    "                           'vl_precipitacao_chirps','vl_precipitacao_cpc', 'vl_temperatura_maxima_cpc','vl_temperatura_minima_cpc', 'vl_precipitacao_gpm_final_run','vl_precipitacao_gpm_late_run', \n",
    "                           'vl_precipitacao_power','vl_temperatura_maxima_2m_K_power', 'vl_temperatura_media_2m_K_power','vl_temperatura_minima_2m_K_power', 'vl_umidade_relativa_2m_power','vl_pressao_nivel_superficie_power', 'vl_irradiancia_allsky_power','vl_direcao_vento_10m_power', \n",
    "                           'vl_direcao_vento_2m_power','vl_temperatura_orvalho_2m_K_power', 'vl_vento_10m_power','vl_vento_medio_2m_power', 'vl_vento_maximo_2m_power','vl_vento_maximo_10m_power', \n",
    "                           'vl_precipitacao_vizinha','vl_prioridade_vizinha']\n",
    "\n",
    "featurelist_sem_vizinha = ['latitude','longitude','dt_medicao_mes', 'dt_medicao_ano',\n",
    "                           'vl_declividade', 'vl_altitude', 'vl_distancia_oceano', 'vl_aspecto_relevo',\n",
    "                           'vl_temperatura_maxima', 'vl_temperatura_media','vl_temperatura_minima', 'vl_umidade_relativa_maxima','vl_umidade_relativa_media', 'vl_umidade_relativa_minima','vl_velocidade_vento_2m_maxima', 'vl_velocidade_vento_2m_media','vl_velocidade_vento_10m_media', \n",
    "                           'vl_precipitacao_chirps','vl_precipitacao_cpc', 'vl_temperatura_maxima_cpc','vl_temperatura_minima_cpc', 'vl_precipitacao_gpm_final_run','vl_precipitacao_gpm_late_run', \n",
    "                           'vl_precipitacao_power','vl_temperatura_maxima_2m_K_power', 'vl_temperatura_media_2m_K_power','vl_temperatura_minima_2m_K_power', 'vl_umidade_relativa_2m_power','vl_pressao_nivel_superficie_power', 'vl_irradiancia_allsky_power','vl_direcao_vento_10m_power', \n",
    "                           'vl_direcao_vento_2m_power','vl_temperatura_orvalho_2m_K_power', 'vl_vento_10m_power','vl_vento_medio_2m_power', 'vl_vento_maximo_2m_power','vl_vento_maximo_10m_power']\n",
    "\n",
    "abt_estacoes_vizinhas = modelling_conn.execute(\"\"\"\n",
    "SELECT * FROM abt_estacoes_vizinhas\n",
    "\"\"\").fetchdf()\n",
    "\n",
    "abt_estacoes_vizinhas['dt_medicao_mes'] = abt_estacoes_vizinhas['dt_medicao'].dt.month\n",
    "abt_estacoes_vizinhas['dt_medicao_ano'] = abt_estacoes_vizinhas['dt_medicao'].dt.year"
   ]
  },
  {
   "cell_type": "code",
   "execution_count": null,
   "id": "5aa6e5b7",
   "metadata": {},
   "outputs": [
    {
     "name": "stdout",
     "output_type": "stream",
     "text": [
      "\n",
      "=== Treinando modelos com threshold_prioridade = 0.5 ===\n"
     ]
    },
    {
     "name": "stderr",
     "output_type": "stream",
     "text": [
      "C:\\Users\\Mateus Santos Rochas\\AppData\\Local\\Temp\\ipykernel_3872\\3537958185.py:18: DeprecationWarning: DataFrameGroupBy.apply operated on the grouping columns. This behavior is deprecated, and in a future version of pandas the grouping columns will be excluded from the operation. Either pass `include_groups=False` to exclude the groupings or explicitly select the grouping columns after groupby to silence this warning.\n",
      "  treinamento_com_vizinha = abt_com_vizinha.groupby('id_estacao', as_index=False).apply(\n",
      "C:\\Users\\Mateus Santos Rochas\\AppData\\Local\\Temp\\ipykernel_3872\\3537958185.py:22: DeprecationWarning: DataFrameGroupBy.apply operated on the grouping columns. This behavior is deprecated, and in a future version of pandas the grouping columns will be excluded from the operation. Either pass `include_groups=False` to exclude the groupings or explicitly select the grouping columns after groupby to silence this warning.\n",
      "  validacao_com_vizinha = abt_com_vizinha.groupby('id_estacao', as_index=False).apply(\n",
      "C:\\Users\\Mateus Santos Rochas\\AppData\\Local\\Temp\\ipykernel_3872\\3537958185.py:26: DeprecationWarning: DataFrameGroupBy.apply operated on the grouping columns. This behavior is deprecated, and in a future version of pandas the grouping columns will be excluded from the operation. Either pass `include_groups=False` to exclude the groupings or explicitly select the grouping columns after groupby to silence this warning.\n",
      "  treinamento_sem_vizinha = abt_sem_vizinha.groupby('id_estacao', as_index=False).apply(\n",
      "C:\\Users\\Mateus Santos Rochas\\AppData\\Local\\Temp\\ipykernel_3872\\3537958185.py:30: DeprecationWarning: DataFrameGroupBy.apply operated on the grouping columns. This behavior is deprecated, and in a future version of pandas the grouping columns will be excluded from the operation. Either pass `include_groups=False` to exclude the groupings or explicitly select the grouping columns after groupby to silence this warning.\n",
      "  validacao_sem_vizinha = abt_sem_vizinha.groupby('id_estacao', as_index=False).apply(\n"
     ]
    },
    {
     "name": "stdout",
     "output_type": "stream",
     "text": [
      "\n",
      "=== Treinando modelos com threshold_prioridade = 0.5 ===\n"
     ]
    },
    {
     "name": "stderr",
     "output_type": "stream",
     "text": [
      "C:\\Users\\Mateus Santos Rochas\\AppData\\Local\\Temp\\ipykernel_3872\\3537958185.py:18: DeprecationWarning: DataFrameGroupBy.apply operated on the grouping columns. This behavior is deprecated, and in a future version of pandas the grouping columns will be excluded from the operation. Either pass `include_groups=False` to exclude the groupings or explicitly select the grouping columns after groupby to silence this warning.\n",
      "  treinamento_com_vizinha = abt_com_vizinha.groupby('id_estacao', as_index=False).apply(\n",
      "C:\\Users\\Mateus Santos Rochas\\AppData\\Local\\Temp\\ipykernel_3872\\3537958185.py:22: DeprecationWarning: DataFrameGroupBy.apply operated on the grouping columns. This behavior is deprecated, and in a future version of pandas the grouping columns will be excluded from the operation. Either pass `include_groups=False` to exclude the groupings or explicitly select the grouping columns after groupby to silence this warning.\n",
      "  validacao_com_vizinha = abt_com_vizinha.groupby('id_estacao', as_index=False).apply(\n",
      "C:\\Users\\Mateus Santos Rochas\\AppData\\Local\\Temp\\ipykernel_3872\\3537958185.py:26: DeprecationWarning: DataFrameGroupBy.apply operated on the grouping columns. This behavior is deprecated, and in a future version of pandas the grouping columns will be excluded from the operation. Either pass `include_groups=False` to exclude the groupings or explicitly select the grouping columns after groupby to silence this warning.\n",
      "  treinamento_sem_vizinha = abt_sem_vizinha.groupby('id_estacao', as_index=False).apply(\n",
      "C:\\Users\\Mateus Santos Rochas\\AppData\\Local\\Temp\\ipykernel_3872\\3537958185.py:30: DeprecationWarning: DataFrameGroupBy.apply operated on the grouping columns. This behavior is deprecated, and in a future version of pandas the grouping columns will be excluded from the operation. Either pass `include_groups=False` to exclude the groupings or explicitly select the grouping columns after groupby to silence this warning.\n",
      "  validacao_sem_vizinha = abt_sem_vizinha.groupby('id_estacao', as_index=False).apply(\n"
     ]
    },
    {
     "name": "stdout",
     "output_type": "stream",
     "text": [
      "\n",
      "=== Treinando modelos com threshold_prioridade = 0.6 ===\n"
     ]
    },
    {
     "name": "stderr",
     "output_type": "stream",
     "text": [
      "C:\\Users\\Mateus Santos Rochas\\AppData\\Local\\Temp\\ipykernel_3872\\3537958185.py:18: DeprecationWarning: DataFrameGroupBy.apply operated on the grouping columns. This behavior is deprecated, and in a future version of pandas the grouping columns will be excluded from the operation. Either pass `include_groups=False` to exclude the groupings or explicitly select the grouping columns after groupby to silence this warning.\n",
      "  treinamento_com_vizinha = abt_com_vizinha.groupby('id_estacao', as_index=False).apply(\n",
      "C:\\Users\\Mateus Santos Rochas\\AppData\\Local\\Temp\\ipykernel_3872\\3537958185.py:22: DeprecationWarning: DataFrameGroupBy.apply operated on the grouping columns. This behavior is deprecated, and in a future version of pandas the grouping columns will be excluded from the operation. Either pass `include_groups=False` to exclude the groupings or explicitly select the grouping columns after groupby to silence this warning.\n",
      "  validacao_com_vizinha = abt_com_vizinha.groupby('id_estacao', as_index=False).apply(\n",
      "C:\\Users\\Mateus Santos Rochas\\AppData\\Local\\Temp\\ipykernel_3872\\3537958185.py:26: DeprecationWarning: DataFrameGroupBy.apply operated on the grouping columns. This behavior is deprecated, and in a future version of pandas the grouping columns will be excluded from the operation. Either pass `include_groups=False` to exclude the groupings or explicitly select the grouping columns after groupby to silence this warning.\n",
      "  treinamento_sem_vizinha = abt_sem_vizinha.groupby('id_estacao', as_index=False).apply(\n",
      "C:\\Users\\Mateus Santos Rochas\\AppData\\Local\\Temp\\ipykernel_3872\\3537958185.py:30: DeprecationWarning: DataFrameGroupBy.apply operated on the grouping columns. This behavior is deprecated, and in a future version of pandas the grouping columns will be excluded from the operation. Either pass `include_groups=False` to exclude the groupings or explicitly select the grouping columns after groupby to silence this warning.\n",
      "  validacao_sem_vizinha = abt_sem_vizinha.groupby('id_estacao', as_index=False).apply(\n"
     ]
    },
    {
     "name": "stdout",
     "output_type": "stream",
     "text": [
      "\n",
      "=== Treinando modelos com threshold_prioridade = 0.6 ===\n"
     ]
    },
    {
     "name": "stderr",
     "output_type": "stream",
     "text": [
      "C:\\Users\\Mateus Santos Rochas\\AppData\\Local\\Temp\\ipykernel_3872\\3537958185.py:18: DeprecationWarning: DataFrameGroupBy.apply operated on the grouping columns. This behavior is deprecated, and in a future version of pandas the grouping columns will be excluded from the operation. Either pass `include_groups=False` to exclude the groupings or explicitly select the grouping columns after groupby to silence this warning.\n",
      "  treinamento_com_vizinha = abt_com_vizinha.groupby('id_estacao', as_index=False).apply(\n",
      "C:\\Users\\Mateus Santos Rochas\\AppData\\Local\\Temp\\ipykernel_3872\\3537958185.py:22: DeprecationWarning: DataFrameGroupBy.apply operated on the grouping columns. This behavior is deprecated, and in a future version of pandas the grouping columns will be excluded from the operation. Either pass `include_groups=False` to exclude the groupings or explicitly select the grouping columns after groupby to silence this warning.\n",
      "  validacao_com_vizinha = abt_com_vizinha.groupby('id_estacao', as_index=False).apply(\n",
      "C:\\Users\\Mateus Santos Rochas\\AppData\\Local\\Temp\\ipykernel_3872\\3537958185.py:26: DeprecationWarning: DataFrameGroupBy.apply operated on the grouping columns. This behavior is deprecated, and in a future version of pandas the grouping columns will be excluded from the operation. Either pass `include_groups=False` to exclude the groupings or explicitly select the grouping columns after groupby to silence this warning.\n",
      "  treinamento_sem_vizinha = abt_sem_vizinha.groupby('id_estacao', as_index=False).apply(\n",
      "C:\\Users\\Mateus Santos Rochas\\AppData\\Local\\Temp\\ipykernel_3872\\3537958185.py:30: DeprecationWarning: DataFrameGroupBy.apply operated on the grouping columns. This behavior is deprecated, and in a future version of pandas the grouping columns will be excluded from the operation. Either pass `include_groups=False` to exclude the groupings or explicitly select the grouping columns after groupby to silence this warning.\n",
      "  validacao_sem_vizinha = abt_sem_vizinha.groupby('id_estacao', as_index=False).apply(\n"
     ]
    },
    {
     "name": "stdout",
     "output_type": "stream",
     "text": [
      "\n",
      "=== Treinando modelos com threshold_prioridade = 0.6 ===\n"
     ]
    },
    {
     "name": "stderr",
     "output_type": "stream",
     "text": [
      "C:\\Users\\Mateus Santos Rochas\\AppData\\Local\\Temp\\ipykernel_3872\\3537958185.py:18: DeprecationWarning: DataFrameGroupBy.apply operated on the grouping columns. This behavior is deprecated, and in a future version of pandas the grouping columns will be excluded from the operation. Either pass `include_groups=False` to exclude the groupings or explicitly select the grouping columns after groupby to silence this warning.\n",
      "  treinamento_com_vizinha = abt_com_vizinha.groupby('id_estacao', as_index=False).apply(\n",
      "C:\\Users\\Mateus Santos Rochas\\AppData\\Local\\Temp\\ipykernel_3872\\3537958185.py:22: DeprecationWarning: DataFrameGroupBy.apply operated on the grouping columns. This behavior is deprecated, and in a future version of pandas the grouping columns will be excluded from the operation. Either pass `include_groups=False` to exclude the groupings or explicitly select the grouping columns after groupby to silence this warning.\n",
      "  validacao_com_vizinha = abt_com_vizinha.groupby('id_estacao', as_index=False).apply(\n",
      "C:\\Users\\Mateus Santos Rochas\\AppData\\Local\\Temp\\ipykernel_3872\\3537958185.py:26: DeprecationWarning: DataFrameGroupBy.apply operated on the grouping columns. This behavior is deprecated, and in a future version of pandas the grouping columns will be excluded from the operation. Either pass `include_groups=False` to exclude the groupings or explicitly select the grouping columns after groupby to silence this warning.\n",
      "  treinamento_sem_vizinha = abt_sem_vizinha.groupby('id_estacao', as_index=False).apply(\n",
      "C:\\Users\\Mateus Santos Rochas\\AppData\\Local\\Temp\\ipykernel_3872\\3537958185.py:30: DeprecationWarning: DataFrameGroupBy.apply operated on the grouping columns. This behavior is deprecated, and in a future version of pandas the grouping columns will be excluded from the operation. Either pass `include_groups=False` to exclude the groupings or explicitly select the grouping columns after groupby to silence this warning.\n",
      "  validacao_sem_vizinha = abt_sem_vizinha.groupby('id_estacao', as_index=False).apply(\n"
     ]
    },
    {
     "name": "stdout",
     "output_type": "stream",
     "text": [
      "\n",
      "=== Treinando modelos com threshold_prioridade = 0.6 ===\n"
     ]
    },
    {
     "name": "stderr",
     "output_type": "stream",
     "text": [
      "C:\\Users\\Mateus Santos Rochas\\AppData\\Local\\Temp\\ipykernel_3872\\3537958185.py:18: DeprecationWarning: DataFrameGroupBy.apply operated on the grouping columns. This behavior is deprecated, and in a future version of pandas the grouping columns will be excluded from the operation. Either pass `include_groups=False` to exclude the groupings or explicitly select the grouping columns after groupby to silence this warning.\n",
      "  treinamento_com_vizinha = abt_com_vizinha.groupby('id_estacao', as_index=False).apply(\n",
      "C:\\Users\\Mateus Santos Rochas\\AppData\\Local\\Temp\\ipykernel_3872\\3537958185.py:22: DeprecationWarning: DataFrameGroupBy.apply operated on the grouping columns. This behavior is deprecated, and in a future version of pandas the grouping columns will be excluded from the operation. Either pass `include_groups=False` to exclude the groupings or explicitly select the grouping columns after groupby to silence this warning.\n",
      "  validacao_com_vizinha = abt_com_vizinha.groupby('id_estacao', as_index=False).apply(\n",
      "C:\\Users\\Mateus Santos Rochas\\AppData\\Local\\Temp\\ipykernel_3872\\3537958185.py:26: DeprecationWarning: DataFrameGroupBy.apply operated on the grouping columns. This behavior is deprecated, and in a future version of pandas the grouping columns will be excluded from the operation. Either pass `include_groups=False` to exclude the groupings or explicitly select the grouping columns after groupby to silence this warning.\n",
      "  treinamento_sem_vizinha = abt_sem_vizinha.groupby('id_estacao', as_index=False).apply(\n",
      "C:\\Users\\Mateus Santos Rochas\\AppData\\Local\\Temp\\ipykernel_3872\\3537958185.py:30: DeprecationWarning: DataFrameGroupBy.apply operated on the grouping columns. This behavior is deprecated, and in a future version of pandas the grouping columns will be excluded from the operation. Either pass `include_groups=False` to exclude the groupings or explicitly select the grouping columns after groupby to silence this warning.\n",
      "  validacao_sem_vizinha = abt_sem_vizinha.groupby('id_estacao', as_index=False).apply(\n"
     ]
    },
    {
     "name": "stdout",
     "output_type": "stream",
     "text": [
      "\n",
      "=== Treinando modelos com threshold_prioridade = 0.7 ===\n"
     ]
    },
    {
     "name": "stderr",
     "output_type": "stream",
     "text": [
      "C:\\Users\\Mateus Santos Rochas\\AppData\\Local\\Temp\\ipykernel_3872\\3537958185.py:18: DeprecationWarning: DataFrameGroupBy.apply operated on the grouping columns. This behavior is deprecated, and in a future version of pandas the grouping columns will be excluded from the operation. Either pass `include_groups=False` to exclude the groupings or explicitly select the grouping columns after groupby to silence this warning.\n",
      "  treinamento_com_vizinha = abt_com_vizinha.groupby('id_estacao', as_index=False).apply(\n",
      "C:\\Users\\Mateus Santos Rochas\\AppData\\Local\\Temp\\ipykernel_3872\\3537958185.py:22: DeprecationWarning: DataFrameGroupBy.apply operated on the grouping columns. This behavior is deprecated, and in a future version of pandas the grouping columns will be excluded from the operation. Either pass `include_groups=False` to exclude the groupings or explicitly select the grouping columns after groupby to silence this warning.\n",
      "  validacao_com_vizinha = abt_com_vizinha.groupby('id_estacao', as_index=False).apply(\n",
      "C:\\Users\\Mateus Santos Rochas\\AppData\\Local\\Temp\\ipykernel_3872\\3537958185.py:26: DeprecationWarning: DataFrameGroupBy.apply operated on the grouping columns. This behavior is deprecated, and in a future version of pandas the grouping columns will be excluded from the operation. Either pass `include_groups=False` to exclude the groupings or explicitly select the grouping columns after groupby to silence this warning.\n",
      "  treinamento_sem_vizinha = abt_sem_vizinha.groupby('id_estacao', as_index=False).apply(\n",
      "C:\\Users\\Mateus Santos Rochas\\AppData\\Local\\Temp\\ipykernel_3872\\3537958185.py:30: DeprecationWarning: DataFrameGroupBy.apply operated on the grouping columns. This behavior is deprecated, and in a future version of pandas the grouping columns will be excluded from the operation. Either pass `include_groups=False` to exclude the groupings or explicitly select the grouping columns after groupby to silence this warning.\n",
      "  validacao_sem_vizinha = abt_sem_vizinha.groupby('id_estacao', as_index=False).apply(\n"
     ]
    },
    {
     "name": "stdout",
     "output_type": "stream",
     "text": [
      "\n",
      "=== Treinando modelos com threshold_prioridade = 0.7 ===\n"
     ]
    },
    {
     "name": "stderr",
     "output_type": "stream",
     "text": [
      "C:\\Users\\Mateus Santos Rochas\\AppData\\Local\\Temp\\ipykernel_3872\\3537958185.py:18: DeprecationWarning: DataFrameGroupBy.apply operated on the grouping columns. This behavior is deprecated, and in a future version of pandas the grouping columns will be excluded from the operation. Either pass `include_groups=False` to exclude the groupings or explicitly select the grouping columns after groupby to silence this warning.\n",
      "  treinamento_com_vizinha = abt_com_vizinha.groupby('id_estacao', as_index=False).apply(\n",
      "C:\\Users\\Mateus Santos Rochas\\AppData\\Local\\Temp\\ipykernel_3872\\3537958185.py:22: DeprecationWarning: DataFrameGroupBy.apply operated on the grouping columns. This behavior is deprecated, and in a future version of pandas the grouping columns will be excluded from the operation. Either pass `include_groups=False` to exclude the groupings or explicitly select the grouping columns after groupby to silence this warning.\n",
      "  validacao_com_vizinha = abt_com_vizinha.groupby('id_estacao', as_index=False).apply(\n",
      "C:\\Users\\Mateus Santos Rochas\\AppData\\Local\\Temp\\ipykernel_3872\\3537958185.py:26: DeprecationWarning: DataFrameGroupBy.apply operated on the grouping columns. This behavior is deprecated, and in a future version of pandas the grouping columns will be excluded from the operation. Either pass `include_groups=False` to exclude the groupings or explicitly select the grouping columns after groupby to silence this warning.\n",
      "  treinamento_sem_vizinha = abt_sem_vizinha.groupby('id_estacao', as_index=False).apply(\n",
      "C:\\Users\\Mateus Santos Rochas\\AppData\\Local\\Temp\\ipykernel_3872\\3537958185.py:30: DeprecationWarning: DataFrameGroupBy.apply operated on the grouping columns. This behavior is deprecated, and in a future version of pandas the grouping columns will be excluded from the operation. Either pass `include_groups=False` to exclude the groupings or explicitly select the grouping columns after groupby to silence this warning.\n",
      "  validacao_sem_vizinha = abt_sem_vizinha.groupby('id_estacao', as_index=False).apply(\n"
     ]
    },
    {
     "name": "stdout",
     "output_type": "stream",
     "text": [
      "\n",
      "=== Treinando modelos com threshold_prioridade = 0.7 ===\n"
     ]
    },
    {
     "name": "stderr",
     "output_type": "stream",
     "text": [
      "C:\\Users\\Mateus Santos Rochas\\AppData\\Local\\Temp\\ipykernel_3872\\3537958185.py:18: DeprecationWarning: DataFrameGroupBy.apply operated on the grouping columns. This behavior is deprecated, and in a future version of pandas the grouping columns will be excluded from the operation. Either pass `include_groups=False` to exclude the groupings or explicitly select the grouping columns after groupby to silence this warning.\n",
      "  treinamento_com_vizinha = abt_com_vizinha.groupby('id_estacao', as_index=False).apply(\n",
      "C:\\Users\\Mateus Santos Rochas\\AppData\\Local\\Temp\\ipykernel_3872\\3537958185.py:22: DeprecationWarning: DataFrameGroupBy.apply operated on the grouping columns. This behavior is deprecated, and in a future version of pandas the grouping columns will be excluded from the operation. Either pass `include_groups=False` to exclude the groupings or explicitly select the grouping columns after groupby to silence this warning.\n",
      "  validacao_com_vizinha = abt_com_vizinha.groupby('id_estacao', as_index=False).apply(\n",
      "C:\\Users\\Mateus Santos Rochas\\AppData\\Local\\Temp\\ipykernel_3872\\3537958185.py:26: DeprecationWarning: DataFrameGroupBy.apply operated on the grouping columns. This behavior is deprecated, and in a future version of pandas the grouping columns will be excluded from the operation. Either pass `include_groups=False` to exclude the groupings or explicitly select the grouping columns after groupby to silence this warning.\n",
      "  treinamento_sem_vizinha = abt_sem_vizinha.groupby('id_estacao', as_index=False).apply(\n",
      "C:\\Users\\Mateus Santos Rochas\\AppData\\Local\\Temp\\ipykernel_3872\\3537958185.py:30: DeprecationWarning: DataFrameGroupBy.apply operated on the grouping columns. This behavior is deprecated, and in a future version of pandas the grouping columns will be excluded from the operation. Either pass `include_groups=False` to exclude the groupings or explicitly select the grouping columns after groupby to silence this warning.\n",
      "  validacao_sem_vizinha = abt_sem_vizinha.groupby('id_estacao', as_index=False).apply(\n"
     ]
    },
    {
     "name": "stdout",
     "output_type": "stream",
     "text": [
      "\n",
      "=== Treinando modelos com threshold_prioridade = 0.7 ===\n"
     ]
    },
    {
     "name": "stderr",
     "output_type": "stream",
     "text": [
      "C:\\Users\\Mateus Santos Rochas\\AppData\\Local\\Temp\\ipykernel_3872\\3537958185.py:18: DeprecationWarning: DataFrameGroupBy.apply operated on the grouping columns. This behavior is deprecated, and in a future version of pandas the grouping columns will be excluded from the operation. Either pass `include_groups=False` to exclude the groupings or explicitly select the grouping columns after groupby to silence this warning.\n",
      "  treinamento_com_vizinha = abt_com_vizinha.groupby('id_estacao', as_index=False).apply(\n",
      "C:\\Users\\Mateus Santos Rochas\\AppData\\Local\\Temp\\ipykernel_3872\\3537958185.py:22: DeprecationWarning: DataFrameGroupBy.apply operated on the grouping columns. This behavior is deprecated, and in a future version of pandas the grouping columns will be excluded from the operation. Either pass `include_groups=False` to exclude the groupings or explicitly select the grouping columns after groupby to silence this warning.\n",
      "  validacao_com_vizinha = abt_com_vizinha.groupby('id_estacao', as_index=False).apply(\n",
      "C:\\Users\\Mateus Santos Rochas\\AppData\\Local\\Temp\\ipykernel_3872\\3537958185.py:26: DeprecationWarning: DataFrameGroupBy.apply operated on the grouping columns. This behavior is deprecated, and in a future version of pandas the grouping columns will be excluded from the operation. Either pass `include_groups=False` to exclude the groupings or explicitly select the grouping columns after groupby to silence this warning.\n",
      "  treinamento_sem_vizinha = abt_sem_vizinha.groupby('id_estacao', as_index=False).apply(\n",
      "C:\\Users\\Mateus Santos Rochas\\AppData\\Local\\Temp\\ipykernel_3872\\3537958185.py:30: DeprecationWarning: DataFrameGroupBy.apply operated on the grouping columns. This behavior is deprecated, and in a future version of pandas the grouping columns will be excluded from the operation. Either pass `include_groups=False` to exclude the groupings or explicitly select the grouping columns after groupby to silence this warning.\n",
      "  validacao_sem_vizinha = abt_sem_vizinha.groupby('id_estacao', as_index=False).apply(\n"
     ]
    },
    {
     "name": "stdout",
     "output_type": "stream",
     "text": [
      "\n",
      "=== Treinando modelos com threshold_prioridade = 0.8 ===\n"
     ]
    },
    {
     "name": "stderr",
     "output_type": "stream",
     "text": [
      "C:\\Users\\Mateus Santos Rochas\\AppData\\Local\\Temp\\ipykernel_3872\\3537958185.py:18: DeprecationWarning: DataFrameGroupBy.apply operated on the grouping columns. This behavior is deprecated, and in a future version of pandas the grouping columns will be excluded from the operation. Either pass `include_groups=False` to exclude the groupings or explicitly select the grouping columns after groupby to silence this warning.\n",
      "  treinamento_com_vizinha = abt_com_vizinha.groupby('id_estacao', as_index=False).apply(\n",
      "C:\\Users\\Mateus Santos Rochas\\AppData\\Local\\Temp\\ipykernel_3872\\3537958185.py:22: DeprecationWarning: DataFrameGroupBy.apply operated on the grouping columns. This behavior is deprecated, and in a future version of pandas the grouping columns will be excluded from the operation. Either pass `include_groups=False` to exclude the groupings or explicitly select the grouping columns after groupby to silence this warning.\n",
      "  validacao_com_vizinha = abt_com_vizinha.groupby('id_estacao', as_index=False).apply(\n",
      "C:\\Users\\Mateus Santos Rochas\\AppData\\Local\\Temp\\ipykernel_3872\\3537958185.py:26: DeprecationWarning: DataFrameGroupBy.apply operated on the grouping columns. This behavior is deprecated, and in a future version of pandas the grouping columns will be excluded from the operation. Either pass `include_groups=False` to exclude the groupings or explicitly select the grouping columns after groupby to silence this warning.\n",
      "  treinamento_sem_vizinha = abt_sem_vizinha.groupby('id_estacao', as_index=False).apply(\n",
      "C:\\Users\\Mateus Santos Rochas\\AppData\\Local\\Temp\\ipykernel_3872\\3537958185.py:30: DeprecationWarning: DataFrameGroupBy.apply operated on the grouping columns. This behavior is deprecated, and in a future version of pandas the grouping columns will be excluded from the operation. Either pass `include_groups=False` to exclude the groupings or explicitly select the grouping columns after groupby to silence this warning.\n",
      "  validacao_sem_vizinha = abt_sem_vizinha.groupby('id_estacao', as_index=False).apply(\n"
     ]
    },
    {
     "name": "stdout",
     "output_type": "stream",
     "text": [
      "\n",
      "=== Treinando modelos com threshold_prioridade = 0.8 ===\n"
     ]
    },
    {
     "name": "stderr",
     "output_type": "stream",
     "text": [
      "C:\\Users\\Mateus Santos Rochas\\AppData\\Local\\Temp\\ipykernel_3872\\3537958185.py:18: DeprecationWarning: DataFrameGroupBy.apply operated on the grouping columns. This behavior is deprecated, and in a future version of pandas the grouping columns will be excluded from the operation. Either pass `include_groups=False` to exclude the groupings or explicitly select the grouping columns after groupby to silence this warning.\n",
      "  treinamento_com_vizinha = abt_com_vizinha.groupby('id_estacao', as_index=False).apply(\n",
      "C:\\Users\\Mateus Santos Rochas\\AppData\\Local\\Temp\\ipykernel_3872\\3537958185.py:22: DeprecationWarning: DataFrameGroupBy.apply operated on the grouping columns. This behavior is deprecated, and in a future version of pandas the grouping columns will be excluded from the operation. Either pass `include_groups=False` to exclude the groupings or explicitly select the grouping columns after groupby to silence this warning.\n",
      "  validacao_com_vizinha = abt_com_vizinha.groupby('id_estacao', as_index=False).apply(\n",
      "C:\\Users\\Mateus Santos Rochas\\AppData\\Local\\Temp\\ipykernel_3872\\3537958185.py:26: DeprecationWarning: DataFrameGroupBy.apply operated on the grouping columns. This behavior is deprecated, and in a future version of pandas the grouping columns will be excluded from the operation. Either pass `include_groups=False` to exclude the groupings or explicitly select the grouping columns after groupby to silence this warning.\n",
      "  treinamento_sem_vizinha = abt_sem_vizinha.groupby('id_estacao', as_index=False).apply(\n",
      "C:\\Users\\Mateus Santos Rochas\\AppData\\Local\\Temp\\ipykernel_3872\\3537958185.py:30: DeprecationWarning: DataFrameGroupBy.apply operated on the grouping columns. This behavior is deprecated, and in a future version of pandas the grouping columns will be excluded from the operation. Either pass `include_groups=False` to exclude the groupings or explicitly select the grouping columns after groupby to silence this warning.\n",
      "  validacao_sem_vizinha = abt_sem_vizinha.groupby('id_estacao', as_index=False).apply(\n"
     ]
    },
    {
     "name": "stdout",
     "output_type": "stream",
     "text": [
      "\n",
      "=== Treinando modelos com threshold_prioridade = 0.8 ===\n"
     ]
    },
    {
     "name": "stderr",
     "output_type": "stream",
     "text": [
      "C:\\Users\\Mateus Santos Rochas\\AppData\\Local\\Temp\\ipykernel_3872\\3537958185.py:18: DeprecationWarning: DataFrameGroupBy.apply operated on the grouping columns. This behavior is deprecated, and in a future version of pandas the grouping columns will be excluded from the operation. Either pass `include_groups=False` to exclude the groupings or explicitly select the grouping columns after groupby to silence this warning.\n",
      "  treinamento_com_vizinha = abt_com_vizinha.groupby('id_estacao', as_index=False).apply(\n",
      "C:\\Users\\Mateus Santos Rochas\\AppData\\Local\\Temp\\ipykernel_3872\\3537958185.py:22: DeprecationWarning: DataFrameGroupBy.apply operated on the grouping columns. This behavior is deprecated, and in a future version of pandas the grouping columns will be excluded from the operation. Either pass `include_groups=False` to exclude the groupings or explicitly select the grouping columns after groupby to silence this warning.\n",
      "  validacao_com_vizinha = abt_com_vizinha.groupby('id_estacao', as_index=False).apply(\n",
      "C:\\Users\\Mateus Santos Rochas\\AppData\\Local\\Temp\\ipykernel_3872\\3537958185.py:26: DeprecationWarning: DataFrameGroupBy.apply operated on the grouping columns. This behavior is deprecated, and in a future version of pandas the grouping columns will be excluded from the operation. Either pass `include_groups=False` to exclude the groupings or explicitly select the grouping columns after groupby to silence this warning.\n",
      "  treinamento_sem_vizinha = abt_sem_vizinha.groupby('id_estacao', as_index=False).apply(\n",
      "C:\\Users\\Mateus Santos Rochas\\AppData\\Local\\Temp\\ipykernel_3872\\3537958185.py:30: DeprecationWarning: DataFrameGroupBy.apply operated on the grouping columns. This behavior is deprecated, and in a future version of pandas the grouping columns will be excluded from the operation. Either pass `include_groups=False` to exclude the groupings or explicitly select the grouping columns after groupby to silence this warning.\n",
      "  validacao_sem_vizinha = abt_sem_vizinha.groupby('id_estacao', as_index=False).apply(\n"
     ]
    },
    {
     "name": "stdout",
     "output_type": "stream",
     "text": [
      "\n",
      "=== Treinando modelos com threshold_prioridade = 0.8 ===\n"
     ]
    },
    {
     "name": "stderr",
     "output_type": "stream",
     "text": [
      "C:\\Users\\Mateus Santos Rochas\\AppData\\Local\\Temp\\ipykernel_3872\\3537958185.py:18: DeprecationWarning: DataFrameGroupBy.apply operated on the grouping columns. This behavior is deprecated, and in a future version of pandas the grouping columns will be excluded from the operation. Either pass `include_groups=False` to exclude the groupings or explicitly select the grouping columns after groupby to silence this warning.\n",
      "  treinamento_com_vizinha = abt_com_vizinha.groupby('id_estacao', as_index=False).apply(\n",
      "C:\\Users\\Mateus Santos Rochas\\AppData\\Local\\Temp\\ipykernel_3872\\3537958185.py:22: DeprecationWarning: DataFrameGroupBy.apply operated on the grouping columns. This behavior is deprecated, and in a future version of pandas the grouping columns will be excluded from the operation. Either pass `include_groups=False` to exclude the groupings or explicitly select the grouping columns after groupby to silence this warning.\n",
      "  validacao_com_vizinha = abt_com_vizinha.groupby('id_estacao', as_index=False).apply(\n",
      "C:\\Users\\Mateus Santos Rochas\\AppData\\Local\\Temp\\ipykernel_3872\\3537958185.py:26: DeprecationWarning: DataFrameGroupBy.apply operated on the grouping columns. This behavior is deprecated, and in a future version of pandas the grouping columns will be excluded from the operation. Either pass `include_groups=False` to exclude the groupings or explicitly select the grouping columns after groupby to silence this warning.\n",
      "  treinamento_sem_vizinha = abt_sem_vizinha.groupby('id_estacao', as_index=False).apply(\n",
      "C:\\Users\\Mateus Santos Rochas\\AppData\\Local\\Temp\\ipykernel_3872\\3537958185.py:30: DeprecationWarning: DataFrameGroupBy.apply operated on the grouping columns. This behavior is deprecated, and in a future version of pandas the grouping columns will be excluded from the operation. Either pass `include_groups=False` to exclude the groupings or explicitly select the grouping columns after groupby to silence this warning.\n",
      "  validacao_sem_vizinha = abt_sem_vizinha.groupby('id_estacao', as_index=False).apply(\n"
     ]
    },
    {
     "name": "stdout",
     "output_type": "stream",
     "text": [
      "\n",
      "=== Treinando modelos com threshold_prioridade = 0.9 ===\n"
     ]
    },
    {
     "name": "stderr",
     "output_type": "stream",
     "text": [
      "C:\\Users\\Mateus Santos Rochas\\AppData\\Local\\Temp\\ipykernel_3872\\3537958185.py:18: DeprecationWarning: DataFrameGroupBy.apply operated on the grouping columns. This behavior is deprecated, and in a future version of pandas the grouping columns will be excluded from the operation. Either pass `include_groups=False` to exclude the groupings or explicitly select the grouping columns after groupby to silence this warning.\n",
      "  treinamento_com_vizinha = abt_com_vizinha.groupby('id_estacao', as_index=False).apply(\n",
      "C:\\Users\\Mateus Santos Rochas\\AppData\\Local\\Temp\\ipykernel_3872\\3537958185.py:22: DeprecationWarning: DataFrameGroupBy.apply operated on the grouping columns. This behavior is deprecated, and in a future version of pandas the grouping columns will be excluded from the operation. Either pass `include_groups=False` to exclude the groupings or explicitly select the grouping columns after groupby to silence this warning.\n",
      "  validacao_com_vizinha = abt_com_vizinha.groupby('id_estacao', as_index=False).apply(\n",
      "C:\\Users\\Mateus Santos Rochas\\AppData\\Local\\Temp\\ipykernel_3872\\3537958185.py:26: DeprecationWarning: DataFrameGroupBy.apply operated on the grouping columns. This behavior is deprecated, and in a future version of pandas the grouping columns will be excluded from the operation. Either pass `include_groups=False` to exclude the groupings or explicitly select the grouping columns after groupby to silence this warning.\n",
      "  treinamento_sem_vizinha = abt_sem_vizinha.groupby('id_estacao', as_index=False).apply(\n",
      "C:\\Users\\Mateus Santos Rochas\\AppData\\Local\\Temp\\ipykernel_3872\\3537958185.py:30: DeprecationWarning: DataFrameGroupBy.apply operated on the grouping columns. This behavior is deprecated, and in a future version of pandas the grouping columns will be excluded from the operation. Either pass `include_groups=False` to exclude the groupings or explicitly select the grouping columns after groupby to silence this warning.\n",
      "  validacao_sem_vizinha = abt_sem_vizinha.groupby('id_estacao', as_index=False).apply(\n"
     ]
    },
    {
     "name": "stdout",
     "output_type": "stream",
     "text": [
      "\n",
      "=== Treinando modelos com threshold_prioridade = 0.9 ===\n"
     ]
    },
    {
     "name": "stderr",
     "output_type": "stream",
     "text": [
      "C:\\Users\\Mateus Santos Rochas\\AppData\\Local\\Temp\\ipykernel_3872\\3537958185.py:18: DeprecationWarning: DataFrameGroupBy.apply operated on the grouping columns. This behavior is deprecated, and in a future version of pandas the grouping columns will be excluded from the operation. Either pass `include_groups=False` to exclude the groupings or explicitly select the grouping columns after groupby to silence this warning.\n",
      "  treinamento_com_vizinha = abt_com_vizinha.groupby('id_estacao', as_index=False).apply(\n",
      "C:\\Users\\Mateus Santos Rochas\\AppData\\Local\\Temp\\ipykernel_3872\\3537958185.py:22: DeprecationWarning: DataFrameGroupBy.apply operated on the grouping columns. This behavior is deprecated, and in a future version of pandas the grouping columns will be excluded from the operation. Either pass `include_groups=False` to exclude the groupings or explicitly select the grouping columns after groupby to silence this warning.\n",
      "  validacao_com_vizinha = abt_com_vizinha.groupby('id_estacao', as_index=False).apply(\n",
      "C:\\Users\\Mateus Santos Rochas\\AppData\\Local\\Temp\\ipykernel_3872\\3537958185.py:26: DeprecationWarning: DataFrameGroupBy.apply operated on the grouping columns. This behavior is deprecated, and in a future version of pandas the grouping columns will be excluded from the operation. Either pass `include_groups=False` to exclude the groupings or explicitly select the grouping columns after groupby to silence this warning.\n",
      "  treinamento_sem_vizinha = abt_sem_vizinha.groupby('id_estacao', as_index=False).apply(\n",
      "C:\\Users\\Mateus Santos Rochas\\AppData\\Local\\Temp\\ipykernel_3872\\3537958185.py:30: DeprecationWarning: DataFrameGroupBy.apply operated on the grouping columns. This behavior is deprecated, and in a future version of pandas the grouping columns will be excluded from the operation. Either pass `include_groups=False` to exclude the groupings or explicitly select the grouping columns after groupby to silence this warning.\n",
      "  validacao_sem_vizinha = abt_sem_vizinha.groupby('id_estacao', as_index=False).apply(\n"
     ]
    },
    {
     "name": "stdout",
     "output_type": "stream",
     "text": [
      "\n",
      "=== Treinando modelos com threshold_prioridade = 0.9 ===\n"
     ]
    },
    {
     "name": "stderr",
     "output_type": "stream",
     "text": [
      "C:\\Users\\Mateus Santos Rochas\\AppData\\Local\\Temp\\ipykernel_3872\\3537958185.py:18: DeprecationWarning: DataFrameGroupBy.apply operated on the grouping columns. This behavior is deprecated, and in a future version of pandas the grouping columns will be excluded from the operation. Either pass `include_groups=False` to exclude the groupings or explicitly select the grouping columns after groupby to silence this warning.\n",
      "  treinamento_com_vizinha = abt_com_vizinha.groupby('id_estacao', as_index=False).apply(\n",
      "C:\\Users\\Mateus Santos Rochas\\AppData\\Local\\Temp\\ipykernel_3872\\3537958185.py:22: DeprecationWarning: DataFrameGroupBy.apply operated on the grouping columns. This behavior is deprecated, and in a future version of pandas the grouping columns will be excluded from the operation. Either pass `include_groups=False` to exclude the groupings or explicitly select the grouping columns after groupby to silence this warning.\n",
      "  validacao_com_vizinha = abt_com_vizinha.groupby('id_estacao', as_index=False).apply(\n",
      "C:\\Users\\Mateus Santos Rochas\\AppData\\Local\\Temp\\ipykernel_3872\\3537958185.py:26: DeprecationWarning: DataFrameGroupBy.apply operated on the grouping columns. This behavior is deprecated, and in a future version of pandas the grouping columns will be excluded from the operation. Either pass `include_groups=False` to exclude the groupings or explicitly select the grouping columns after groupby to silence this warning.\n",
      "  treinamento_sem_vizinha = abt_sem_vizinha.groupby('id_estacao', as_index=False).apply(\n",
      "C:\\Users\\Mateus Santos Rochas\\AppData\\Local\\Temp\\ipykernel_3872\\3537958185.py:30: DeprecationWarning: DataFrameGroupBy.apply operated on the grouping columns. This behavior is deprecated, and in a future version of pandas the grouping columns will be excluded from the operation. Either pass `include_groups=False` to exclude the groupings or explicitly select the grouping columns after groupby to silence this warning.\n",
      "  validacao_sem_vizinha = abt_sem_vizinha.groupby('id_estacao', as_index=False).apply(\n"
     ]
    },
    {
     "name": "stdout",
     "output_type": "stream",
     "text": [
      "\n",
      "=== Treinando modelos com threshold_prioridade = 0.9 ===\n"
     ]
    },
    {
     "name": "stderr",
     "output_type": "stream",
     "text": [
      "C:\\Users\\Mateus Santos Rochas\\AppData\\Local\\Temp\\ipykernel_3872\\3537958185.py:18: DeprecationWarning: DataFrameGroupBy.apply operated on the grouping columns. This behavior is deprecated, and in a future version of pandas the grouping columns will be excluded from the operation. Either pass `include_groups=False` to exclude the groupings or explicitly select the grouping columns after groupby to silence this warning.\n",
      "  treinamento_com_vizinha = abt_com_vizinha.groupby('id_estacao', as_index=False).apply(\n",
      "C:\\Users\\Mateus Santos Rochas\\AppData\\Local\\Temp\\ipykernel_3872\\3537958185.py:22: DeprecationWarning: DataFrameGroupBy.apply operated on the grouping columns. This behavior is deprecated, and in a future version of pandas the grouping columns will be excluded from the operation. Either pass `include_groups=False` to exclude the groupings or explicitly select the grouping columns after groupby to silence this warning.\n",
      "  validacao_com_vizinha = abt_com_vizinha.groupby('id_estacao', as_index=False).apply(\n",
      "C:\\Users\\Mateus Santos Rochas\\AppData\\Local\\Temp\\ipykernel_3872\\3537958185.py:26: DeprecationWarning: DataFrameGroupBy.apply operated on the grouping columns. This behavior is deprecated, and in a future version of pandas the grouping columns will be excluded from the operation. Either pass `include_groups=False` to exclude the groupings or explicitly select the grouping columns after groupby to silence this warning.\n",
      "  treinamento_sem_vizinha = abt_sem_vizinha.groupby('id_estacao', as_index=False).apply(\n",
      "C:\\Users\\Mateus Santos Rochas\\AppData\\Local\\Temp\\ipykernel_3872\\3537958185.py:30: DeprecationWarning: DataFrameGroupBy.apply operated on the grouping columns. This behavior is deprecated, and in a future version of pandas the grouping columns will be excluded from the operation. Either pass `include_groups=False` to exclude the groupings or explicitly select the grouping columns after groupby to silence this warning.\n",
      "  validacao_sem_vizinha = abt_sem_vizinha.groupby('id_estacao', as_index=False).apply(\n"
     ]
    },
    {
     "name": "stdout",
     "output_type": "stream",
     "text": [
      "\n",
      "=== Treinando modelos com threshold_prioridade = 1.0 ===\n"
     ]
    },
    {
     "name": "stderr",
     "output_type": "stream",
     "text": [
      "C:\\Users\\Mateus Santos Rochas\\AppData\\Local\\Temp\\ipykernel_3872\\3537958185.py:18: DeprecationWarning: DataFrameGroupBy.apply operated on the grouping columns. This behavior is deprecated, and in a future version of pandas the grouping columns will be excluded from the operation. Either pass `include_groups=False` to exclude the groupings or explicitly select the grouping columns after groupby to silence this warning.\n",
      "  treinamento_com_vizinha = abt_com_vizinha.groupby('id_estacao', as_index=False).apply(\n",
      "C:\\Users\\Mateus Santos Rochas\\AppData\\Local\\Temp\\ipykernel_3872\\3537958185.py:22: DeprecationWarning: DataFrameGroupBy.apply operated on the grouping columns. This behavior is deprecated, and in a future version of pandas the grouping columns will be excluded from the operation. Either pass `include_groups=False` to exclude the groupings or explicitly select the grouping columns after groupby to silence this warning.\n",
      "  validacao_com_vizinha = abt_com_vizinha.groupby('id_estacao', as_index=False).apply(\n",
      "C:\\Users\\Mateus Santos Rochas\\AppData\\Local\\Temp\\ipykernel_3872\\3537958185.py:26: DeprecationWarning: DataFrameGroupBy.apply operated on the grouping columns. This behavior is deprecated, and in a future version of pandas the grouping columns will be excluded from the operation. Either pass `include_groups=False` to exclude the groupings or explicitly select the grouping columns after groupby to silence this warning.\n",
      "  treinamento_sem_vizinha = abt_sem_vizinha.groupby('id_estacao', as_index=False).apply(\n",
      "C:\\Users\\Mateus Santos Rochas\\AppData\\Local\\Temp\\ipykernel_3872\\3537958185.py:30: DeprecationWarning: DataFrameGroupBy.apply operated on the grouping columns. This behavior is deprecated, and in a future version of pandas the grouping columns will be excluded from the operation. Either pass `include_groups=False` to exclude the groupings or explicitly select the grouping columns after groupby to silence this warning.\n",
      "  validacao_sem_vizinha = abt_sem_vizinha.groupby('id_estacao', as_index=False).apply(\n"
     ]
    },
    {
     "name": "stdout",
     "output_type": "stream",
     "text": [
      "\n",
      "=== Treinando modelos com threshold_prioridade = 1.0 ===\n"
     ]
    },
    {
     "name": "stderr",
     "output_type": "stream",
     "text": [
      "C:\\Users\\Mateus Santos Rochas\\AppData\\Local\\Temp\\ipykernel_3872\\3537958185.py:18: DeprecationWarning: DataFrameGroupBy.apply operated on the grouping columns. This behavior is deprecated, and in a future version of pandas the grouping columns will be excluded from the operation. Either pass `include_groups=False` to exclude the groupings or explicitly select the grouping columns after groupby to silence this warning.\n",
      "  treinamento_com_vizinha = abt_com_vizinha.groupby('id_estacao', as_index=False).apply(\n",
      "C:\\Users\\Mateus Santos Rochas\\AppData\\Local\\Temp\\ipykernel_3872\\3537958185.py:22: DeprecationWarning: DataFrameGroupBy.apply operated on the grouping columns. This behavior is deprecated, and in a future version of pandas the grouping columns will be excluded from the operation. Either pass `include_groups=False` to exclude the groupings or explicitly select the grouping columns after groupby to silence this warning.\n",
      "  validacao_com_vizinha = abt_com_vizinha.groupby('id_estacao', as_index=False).apply(\n",
      "C:\\Users\\Mateus Santos Rochas\\AppData\\Local\\Temp\\ipykernel_3872\\3537958185.py:26: DeprecationWarning: DataFrameGroupBy.apply operated on the grouping columns. This behavior is deprecated, and in a future version of pandas the grouping columns will be excluded from the operation. Either pass `include_groups=False` to exclude the groupings or explicitly select the grouping columns after groupby to silence this warning.\n",
      "  treinamento_sem_vizinha = abt_sem_vizinha.groupby('id_estacao', as_index=False).apply(\n",
      "C:\\Users\\Mateus Santos Rochas\\AppData\\Local\\Temp\\ipykernel_3872\\3537958185.py:30: DeprecationWarning: DataFrameGroupBy.apply operated on the grouping columns. This behavior is deprecated, and in a future version of pandas the grouping columns will be excluded from the operation. Either pass `include_groups=False` to exclude the groupings or explicitly select the grouping columns after groupby to silence this warning.\n",
      "  validacao_sem_vizinha = abt_sem_vizinha.groupby('id_estacao', as_index=False).apply(\n"
     ]
    }
   ],
   "source": [
    "resultados_lista = []\n",
    "\n",
    "for threshold in np.arange(0.7, 1.0, 0.01):\n",
    "    print(f\"\\n=== Treinando modelos com threshold_prioridade = {threshold:.3f} ===\")\n",
    "    resultados = treinar_modelos_precipitacao(\n",
    "        abt_estacoes_vizinhas=abt_estacoes_vizinhas,\n",
    "        threshold_prioridade=threshold,\n",
    "        percent_datetime_partitioning_split=percent_datetime_partitioning_split,\n",
    "        featurelist_com_vizinha=featurelist_com_vizinha,\n",
    "        featurelist_sem_vizinha=featurelist_sem_vizinha\n",
    "    )\n",
    "    \n",
    "    resultados_lista.append({\n",
    "        'threshold_prioridade': threshold,\n",
    "        'rmse_com_vizinha': resultados['com_vizinha']['rmse'],\n",
    "        'mae_com_vizinha': resultados['com_vizinha']['mae'],\n",
    "        'r2_com_vizinha': resultados['com_vizinha']['r2'],\n",
    "        'rmse_sem_vizinha': resultados['sem_vizinha']['rmse'],\n",
    "        'mae_sem_vizinha': resultados['sem_vizinha']['mae'],\n",
    "        'r2_sem_vizinha': resultados['sem_vizinha']['r2']\n",
    "    })\n"
   ]
  },
  {
   "cell_type": "code",
   "execution_count": null,
   "id": "fcd9a8e7",
   "metadata": {},
   "outputs": [],
   "source": []
  },
  {
   "cell_type": "code",
   "execution_count": 62,
   "id": "1fe56c7b",
   "metadata": {},
   "outputs": [],
   "source": [
    "import seaborn as sns\n",
    "df = pd.DataFrame(resultados_lista)"
   ]
  },
  {
   "cell_type": "code",
   "execution_count": null,
   "id": "971ba1bc",
   "metadata": {},
   "outputs": [
    {
     "data": {
      "image/png": "[encoded data removed]",
      "text/plain": [
       "<Figure size 640x480 with 1 Axes>"
      ]
     },
     "metadata": {},
     "output_type": "display_data"
    }
   ],
   "source": [
    "sns.lineplot(data=pd.melt(df[['threshold_prioridade','r2_com_vizinha','r2_sem_vizinha']],id_vars=['threshold_prioridade']),x='threshold_prioridade',y='value',hue='variable')\n",
    "plt.grid()"
   ]
  },
  {
   "cell_type": "code",
   "execution_count": 83,
   "id": "7c7b272d",
   "metadata": {},
   "outputs": [
    {
     "data": {
      "text/html": [
       "<div>\n",
       "<style scoped>\n",
       "    .dataframe tbody tr th:only-of-type {\n",
       "        vertical-align: middle;\n",
       "    }\n",
       "\n",
       "    .dataframe tbody tr th {\n",
       "        vertical-align: top;\n",
       "    }\n",
       "\n",
       "    .dataframe thead th {\n",
       "        text-align: right;\n",
       "    }\n",
       "</style>\n",
       "<table border=\"1\" class=\"dataframe\">\n",
       "  <thead>\n",
       "    <tr style=\"text-align: right;\">\n",
       "      <th></th>\n",
       "      <th>threshold_prioridade</th>\n",
       "      <th>rmse_com_vizinha</th>\n",
       "      <th>mae_com_vizinha</th>\n",
       "      <th>r2_com_vizinha</th>\n",
       "      <th>rmse_sem_vizinha</th>\n",
       "      <th>mae_sem_vizinha</th>\n",
       "      <th>r2_sem_vizinha</th>\n",
       "    </tr>\n",
       "  </thead>\n",
       "  <tbody>\n",
       "    <tr>\n",
       "      <th>12</th>\n",
       "      <td>0.800</td>\n",
       "      <td>5.391340</td>\n",
       "      <td>1.936462</td>\n",
       "      <td>0.740817</td>\n",
       "      <td>8.129291</td>\n",
       "      <td>3.464589</td>\n",
       "      <td>0.372205</td>\n",
       "    </tr>\n",
       "    <tr>\n",
       "      <th>13</th>\n",
       "      <td>0.825</td>\n",
       "      <td>5.005553</td>\n",
       "      <td>1.807563</td>\n",
       "      <td>0.776640</td>\n",
       "      <td>8.131234</td>\n",
       "      <td>3.447892</td>\n",
       "      <td>0.373529</td>\n",
       "    </tr>\n",
       "    <tr>\n",
       "      <th>14</th>\n",
       "      <td>0.850</td>\n",
       "      <td>4.728663</td>\n",
       "      <td>1.580863</td>\n",
       "      <td>0.804962</td>\n",
       "      <td>8.117462</td>\n",
       "      <td>3.438234</td>\n",
       "      <td>0.375167</td>\n",
       "    </tr>\n",
       "    <tr>\n",
       "      <th>15</th>\n",
       "      <td>0.875</td>\n",
       "      <td>4.475753</td>\n",
       "      <td>1.423968</td>\n",
       "      <td>0.829646</td>\n",
       "      <td>8.121165</td>\n",
       "      <td>3.428770</td>\n",
       "      <td>0.375288</td>\n",
       "    </tr>\n",
       "    <tr>\n",
       "      <th>16</th>\n",
       "      <td>0.900</td>\n",
       "      <td>7.259268</td>\n",
       "      <td>1.953347</td>\n",
       "      <td>0.569036</td>\n",
       "      <td>8.181651</td>\n",
       "      <td>3.483374</td>\n",
       "      <td>0.366559</td>\n",
       "    </tr>\n",
       "    <tr>\n",
       "      <th>17</th>\n",
       "      <td>0.925</td>\n",
       "      <td>5.684961</td>\n",
       "      <td>1.517376</td>\n",
       "      <td>0.738486</td>\n",
       "      <td>8.159410</td>\n",
       "      <td>3.451426</td>\n",
       "      <td>0.371837</td>\n",
       "    </tr>\n",
       "    <tr>\n",
       "      <th>18</th>\n",
       "      <td>0.950</td>\n",
       "      <td>3.077766</td>\n",
       "      <td>0.875365</td>\n",
       "      <td>0.921576</td>\n",
       "      <td>8.152805</td>\n",
       "      <td>3.460364</td>\n",
       "      <td>0.374130</td>\n",
       "    </tr>\n",
       "    <tr>\n",
       "      <th>19</th>\n",
       "      <td>0.975</td>\n",
       "      <td>2.281800</td>\n",
       "      <td>0.569029</td>\n",
       "      <td>0.954798</td>\n",
       "      <td>8.149259</td>\n",
       "      <td>3.449104</td>\n",
       "      <td>0.375081</td>\n",
       "    </tr>\n",
       "  </tbody>\n",
       "</table>\n",
       "</div>"
      ],
      "text/plain": [
       "    threshold_prioridade  rmse_com_vizinha  ...  mae_sem_vizinha  r2_sem_vizinha\n",
       "12                 0.800          5.391340  ...         3.464589        0.372205\n",
       "13                 0.825          5.005553  ...         3.447892        0.373529\n",
       "14                 0.850          4.728663  ...         3.438234        0.375167\n",
       "15                 0.875          4.475753  ...         3.428770        0.375288\n",
       "16                 0.900          7.259268  ...         3.483374        0.366559\n",
       "17                 0.925          5.684961  ...         3.451426        0.371837\n",
       "18                 0.950          3.077766  ...         3.460364        0.374130\n",
       "19                 0.975          2.281800  ...         3.449104        0.375081\n",
       "\n",
       "[8 rows x 7 columns]"
      ]
     },
     "execution_count": 83,
     "metadata": {},
     "output_type": "execute_result"
    }
   ],
   "source": [
    "df.loc[df['threshold_prioridade'].round(3)>=0.8]"
   ]
  },
  {
   "cell_type": "code",
   "execution_count": 78,
   "id": "ace5998a",
   "metadata": {},
   "outputs": [
    {
     "data": {
      "text/html": [
       "<div>\n",
       "<style scoped>\n",
       "    .dataframe tbody tr th:only-of-type {\n",
       "        vertical-align: middle;\n",
       "    }\n",
       "\n",
       "    .dataframe tbody tr th {\n",
       "        vertical-align: top;\n",
       "    }\n",
       "\n",
       "    .dataframe thead th {\n",
       "        text-align: right;\n",
       "    }\n",
       "</style>\n",
       "<table border=\"1\" class=\"dataframe\">\n",
       "  <thead>\n",
       "    <tr style=\"text-align: right;\">\n",
       "      <th></th>\n",
       "      <th>threshold_prioridade</th>\n",
       "      <th>rmse_com_vizinha</th>\n",
       "      <th>mae_com_vizinha</th>\n",
       "      <th>r2_com_vizinha</th>\n",
       "      <th>rmse_sem_vizinha</th>\n",
       "      <th>mae_sem_vizinha</th>\n",
       "      <th>r2_sem_vizinha</th>\n",
       "    </tr>\n",
       "  </thead>\n",
       "  <tbody>\n",
       "    <tr>\n",
       "      <th>0</th>\n",
       "      <td>0.500</td>\n",
       "      <td>6.686833</td>\n",
       "      <td>2.553807</td>\n",
       "      <td>0.579343</td>\n",
       "      <td>8.436987</td>\n",
       "      <td>3.574266</td>\n",
       "      <td>0.330398</td>\n",
       "    </tr>\n",
       "    <tr>\n",
       "      <th>1</th>\n",
       "      <td>0.525</td>\n",
       "      <td>6.619109</td>\n",
       "      <td>2.515728</td>\n",
       "      <td>0.589256</td>\n",
       "      <td>8.363531</td>\n",
       "      <td>3.535510</td>\n",
       "      <td>0.337492</td>\n",
       "    </tr>\n",
       "    <tr>\n",
       "      <th>2</th>\n",
       "      <td>0.550</td>\n",
       "      <td>6.560421</td>\n",
       "      <td>2.484593</td>\n",
       "      <td>0.598045</td>\n",
       "      <td>8.298008</td>\n",
       "      <td>3.503113</td>\n",
       "      <td>0.346753</td>\n",
       "    </tr>\n",
       "    <tr>\n",
       "      <th>3</th>\n",
       "      <td>0.575</td>\n",
       "      <td>6.457298</td>\n",
       "      <td>2.428558</td>\n",
       "      <td>0.611141</td>\n",
       "      <td>8.272693</td>\n",
       "      <td>3.486361</td>\n",
       "      <td>0.350283</td>\n",
       "    </tr>\n",
       "    <tr>\n",
       "      <th>4</th>\n",
       "      <td>0.600</td>\n",
       "      <td>6.390275</td>\n",
       "      <td>2.396257</td>\n",
       "      <td>0.620807</td>\n",
       "      <td>8.227177</td>\n",
       "      <td>3.465207</td>\n",
       "      <td>0.356003</td>\n",
       "    </tr>\n",
       "    <tr>\n",
       "      <th>5</th>\n",
       "      <td>0.625</td>\n",
       "      <td>6.223513</td>\n",
       "      <td>2.316301</td>\n",
       "      <td>0.640925</td>\n",
       "      <td>8.211218</td>\n",
       "      <td>3.450583</td>\n",
       "      <td>0.359786</td>\n",
       "    </tr>\n",
       "    <tr>\n",
       "      <th>6</th>\n",
       "      <td>0.650</td>\n",
       "      <td>6.057387</td>\n",
       "      <td>2.228712</td>\n",
       "      <td>0.660103</td>\n",
       "      <td>8.200400</td>\n",
       "      <td>3.446324</td>\n",
       "      <td>0.361712</td>\n",
       "    </tr>\n",
       "    <tr>\n",
       "      <th>7</th>\n",
       "      <td>0.675</td>\n",
       "      <td>5.935043</td>\n",
       "      <td>2.166480</td>\n",
       "      <td>0.674471</td>\n",
       "      <td>8.180419</td>\n",
       "      <td>3.441818</td>\n",
       "      <td>0.364641</td>\n",
       "    </tr>\n",
       "    <tr>\n",
       "      <th>8</th>\n",
       "      <td>0.700</td>\n",
       "      <td>5.881715</td>\n",
       "      <td>2.148508</td>\n",
       "      <td>0.684126</td>\n",
       "      <td>8.151472</td>\n",
       "      <td>3.432174</td>\n",
       "      <td>0.367556</td>\n",
       "    </tr>\n",
       "    <tr>\n",
       "      <th>9</th>\n",
       "      <td>0.725</td>\n",
       "      <td>5.803908</td>\n",
       "      <td>2.073865</td>\n",
       "      <td>0.695214</td>\n",
       "      <td>8.141697</td>\n",
       "      <td>3.442676</td>\n",
       "      <td>0.368411</td>\n",
       "    </tr>\n",
       "    <tr>\n",
       "      <th>10</th>\n",
       "      <td>0.750</td>\n",
       "      <td>5.598585</td>\n",
       "      <td>1.974236</td>\n",
       "      <td>0.720869</td>\n",
       "      <td>8.124581</td>\n",
       "      <td>3.423896</td>\n",
       "      <td>0.369707</td>\n",
       "    </tr>\n",
       "    <tr>\n",
       "      <th>11</th>\n",
       "      <td>0.775</td>\n",
       "      <td>5.389946</td>\n",
       "      <td>1.879426</td>\n",
       "      <td>0.742884</td>\n",
       "      <td>8.129162</td>\n",
       "      <td>3.454902</td>\n",
       "      <td>0.369386</td>\n",
       "    </tr>\n",
       "    <tr>\n",
       "      <th>12</th>\n",
       "      <td>0.800</td>\n",
       "      <td>5.391340</td>\n",
       "      <td>1.936462</td>\n",
       "      <td>0.740817</td>\n",
       "      <td>8.129291</td>\n",
       "      <td>3.464589</td>\n",
       "      <td>0.372205</td>\n",
       "    </tr>\n",
       "    <tr>\n",
       "      <th>13</th>\n",
       "      <td>0.825</td>\n",
       "      <td>5.005553</td>\n",
       "      <td>1.807563</td>\n",
       "      <td>0.776640</td>\n",
       "      <td>8.131234</td>\n",
       "      <td>3.447892</td>\n",
       "      <td>0.373529</td>\n",
       "    </tr>\n",
       "    <tr>\n",
       "      <th>14</th>\n",
       "      <td>0.850</td>\n",
       "      <td>4.728663</td>\n",
       "      <td>1.580863</td>\n",
       "      <td>0.804962</td>\n",
       "      <td>8.117462</td>\n",
       "      <td>3.438234</td>\n",
       "      <td>0.375167</td>\n",
       "    </tr>\n",
       "    <tr>\n",
       "      <th>15</th>\n",
       "      <td>0.875</td>\n",
       "      <td>4.475753</td>\n",
       "      <td>1.423968</td>\n",
       "      <td>0.829646</td>\n",
       "      <td>8.121165</td>\n",
       "      <td>3.428770</td>\n",
       "      <td>0.375288</td>\n",
       "    </tr>\n",
       "    <tr>\n",
       "      <th>16</th>\n",
       "      <td>0.900</td>\n",
       "      <td>7.259268</td>\n",
       "      <td>1.953347</td>\n",
       "      <td>0.569036</td>\n",
       "      <td>8.181651</td>\n",
       "      <td>3.483374</td>\n",
       "      <td>0.366559</td>\n",
       "    </tr>\n",
       "    <tr>\n",
       "      <th>17</th>\n",
       "      <td>0.925</td>\n",
       "      <td>5.684961</td>\n",
       "      <td>1.517376</td>\n",
       "      <td>0.738486</td>\n",
       "      <td>8.159410</td>\n",
       "      <td>3.451426</td>\n",
       "      <td>0.371837</td>\n",
       "    </tr>\n",
       "    <tr>\n",
       "      <th>18</th>\n",
       "      <td>0.950</td>\n",
       "      <td>3.077766</td>\n",
       "      <td>0.875365</td>\n",
       "      <td>0.921576</td>\n",
       "      <td>8.152805</td>\n",
       "      <td>3.460364</td>\n",
       "      <td>0.374130</td>\n",
       "    </tr>\n",
       "    <tr>\n",
       "      <th>19</th>\n",
       "      <td>0.975</td>\n",
       "      <td>2.281800</td>\n",
       "      <td>0.569029</td>\n",
       "      <td>0.954798</td>\n",
       "      <td>8.149259</td>\n",
       "      <td>3.449104</td>\n",
       "      <td>0.375081</td>\n",
       "    </tr>\n",
       "  </tbody>\n",
       "</table>\n",
       "</div>"
      ],
      "text/plain": [
       "    threshold_prioridade  rmse_com_vizinha  ...  mae_sem_vizinha  r2_sem_vizinha\n",
       "0                  0.500          6.686833  ...         3.574266        0.330398\n",
       "1                  0.525          6.619109  ...         3.535510        0.337492\n",
       "2                  0.550          6.560421  ...         3.503113        0.346753\n",
       "3                  0.575          6.457298  ...         3.486361        0.350283\n",
       "4                  0.600          6.390275  ...         3.465207        0.356003\n",
       "5                  0.625          6.223513  ...         3.450583        0.359786\n",
       "6                  0.650          6.057387  ...         3.446324        0.361712\n",
       "7                  0.675          5.935043  ...         3.441818        0.364641\n",
       "8                  0.700          5.881715  ...         3.432174        0.367556\n",
       "9                  0.725          5.803908  ...         3.442676        0.368411\n",
       "10                 0.750          5.598585  ...         3.423896        0.369707\n",
       "11                 0.775          5.389946  ...         3.454902        0.369386\n",
       "12                 0.800          5.391340  ...         3.464589        0.372205\n",
       "13                 0.825          5.005553  ...         3.447892        0.373529\n",
       "14                 0.850          4.728663  ...         3.438234        0.375167\n",
       "15                 0.875          4.475753  ...         3.428770        0.375288\n",
       "16                 0.900          7.259268  ...         3.483374        0.366559\n",
       "17                 0.925          5.684961  ...         3.451426        0.371837\n",
       "18                 0.950          3.077766  ...         3.460364        0.374130\n",
       "19                 0.975          2.281800  ...         3.449104        0.375081\n",
       "\n",
       "[20 rows x 7 columns]"
      ]
     },
     "execution_count": 78,
     "metadata": {},
     "output_type": "execute_result"
    }
   ],
   "source": [
    "df"
   ]
  },
  {
   "cell_type": "code",
   "execution_count": 65,
   "id": "f836dd50",
   "metadata": {},
   "outputs": [
    {
     "data": {
      "image/png": "[encoded data removed]",
      "text/plain": [
       "<Figure size 640x480 with 1 Axes>"
      ]
     },
     "metadata": {},
     "output_type": "display_data"
    }
   ],
   "source": [
    "sns.lineplot(data=pd.melt(df[['threshold_prioridade','rmse_com_vizinha','rmse_sem_vizinha']],id_vars=['threshold_prioridade']),x='threshold_prioridade',y='value',hue='variable')\n",
    "plt.grid()"
   ]
  },
  {
   "cell_type": "code",
   "execution_count": null,
   "id": "34dd6c8a",
   "metadata": {},
   "outputs": [
    {
     "data": {
      "image/png": "[encoded data removed]",
      "text/plain": [
       "<Figure size 640x480 with 1 Axes>"
      ]
     },
     "metadata": {},
     "output_type": "display_data"
    }
   ],
   "source": [
    "sns.lineplot(data=pd.melt(df[['threshold_prioridade','mae_com_vizinha','mae_sem_vizinha']],id_vars=['threshold_prioridade']),x='threshold_prioridade',y='value',hue='variable')\n",
    "plt.grid()"
   ]
  },
  {
   "cell_type": "code",
   "execution_count": null,
   "id": "da08fca5",
   "metadata": {},
   "outputs": [
    {
     "data": {
      "text/plain": [
       "2581500"
      ]
     },
     "execution_count": 47,
     "metadata": {},
     "output_type": "execute_result"
    }
   ],
   "source": [
    "len(abt_estacoes_vizinhas.loc[abt_estacoes_vizinhas['vl_prioridade_vizinha']>=0.8])"
   ]
  },
  {
   "cell_type": "code",
   "execution_count": null,
   "id": "18061ac9",
   "metadata": {},
   "outputs": [
    {
     "data": {
      "text/plain": [
       "15579506"
      ]
     },
     "execution_count": 48,
     "metadata": {},
     "output_type": "execute_result"
    }
   ],
   "source": [
    "len(abt_estacoes_vizinhas.loc[abt_estacoes_vizinhas['vl_prioridade_vizinha']<0.8])"
   ]
  },
  {
   "cell_type": "code",
   "execution_count": null,
   "id": "0285d191",
   "metadata": {},
   "outputs": [],
   "source": [
    "# threshold = 0.5\n",
    "# Modelo com vizinha:\n",
    "#   MSE : 44.7095\n",
    "#   RMSE: 6.6865\n",
    "#   MAE : 2.5537\n",
    "#   R²  : 0.5794\n",
    "\n",
    "# Modelo sem vizinha:\n",
    "#   MSE : 71.1782\n",
    "#   RMSE: 8.4367\n",
    "#   MAE : 3.5742\n",
    "#   R²  : 0.3304\n"
   ]
  },
  {
   "cell_type": "markdown",
   "id": "b011a133",
   "metadata": {},
   "source": [
    "# Paralelizando"
   ]
  },
  {
   "cell_type": "code",
   "execution_count": 88,
   "id": "f8766aee",
   "metadata": {},
   "outputs": [
    {
     "name": "stdout",
     "output_type": "stream",
     "text": [
      "Requirement already satisfied: tqdm in c:\\users\\mateus santos rochas\\appdata\\local\\packages\\pythonsoftwarefoundation.python.3.11_qbz5n2kfra8p0\\localcache\\local-packages\\python311\\site-packages (4.67.1)\n",
      "Requirement already satisfied: colorama in c:\\users\\mateus santos rochas\\appdata\\local\\packages\\pythonsoftwarefoundation.python.3.11_qbz5n2kfra8p0\\localcache\\local-packages\\python311\\site-packages (from tqdm) (0.4.6)\n"
     ]
    },
    {
     "name": "stderr",
     "output_type": "stream",
     "text": [
      "\n",
      "[notice] A new release of pip is available: 25.0.1 -> 25.1.1\n",
      "[notice] To update, run: C:\\Users\\Mateus Santos Rochas\\AppData\\Local\\Microsoft\\WindowsApps\\PythonSoftwareFoundation.Python.3.11_qbz5n2kfra8p0\\python.exe -m pip install --upgrade pip\n"
     ]
    }
   ],
   "source": [
    "!pip install --upgrade tqdm\n"
   ]
  },
  {
   "cell_type": "code",
   "execution_count": null,
   "id": "c59a1ce3",
   "metadata": {},
   "outputs": [],
   "source": []
  },
  {
   "cell_type": "code",
   "execution_count": null,
   "id": "a2584765",
   "metadata": {},
   "outputs": [],
   "source": []
  },
  {
   "cell_type": "code",
   "execution_count": null,
   "id": "5ce58f32",
   "metadata": {},
   "outputs": [],
   "source": []
  }
 ],
 "metadata": {
  "kernelspec": {
   "display_name": "Python 3",
   "language": "python",
   "name": "python3"
  },
  "language_info": {
   "codemirror_mode": {
    "name": "ipython",
    "version": 3
   },
   "file_extension": ".py",
   "mimetype": "text/x-python",
   "name": "python",
   "nbconvert_exporter": "python",
   "pygments_lexer": "ipython3",
   "version": "3.11.9"
  }
 },
 "nbformat": 4,
 "nbformat_minor": 5
}
